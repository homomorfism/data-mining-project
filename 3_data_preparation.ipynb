{
 "cells": [
  {
   "cell_type": "markdown",
   "id": "61e1a574-f1cc-4392-9fb5-738ae4c27d74",
   "metadata": {},
   "source": [
    "# Imports"
   ]
  },
  {
   "cell_type": "code",
   "execution_count": 1,
   "id": "0daaf921-53d3-453b-8e63-444edb431666",
   "metadata": {},
   "outputs": [],
   "source": [
    "import sys\n",
    "sys.path.append(\"src/datasets\")\n",
    "\n",
    "import pandas as pd\n",
    "import logging\n",
    "from src.datasets.merge_movie_lens import merge_movie_lens\n",
    "from src.datasets.imdb_management import ImdbSearcher\n",
    "from src.datasets.extract_movielens_to_imdb_mapping import get_tconst_by_title\n",
    "from src.datasets.augment_movielens import *"
   ]
  },
  {
   "cell_type": "markdown",
   "id": "b4e1641a-4af5-448d-8bd8-444e8f28bb53",
   "metadata": {},
   "source": [
    "# Data preparation"
   ]
  },
  {
   "cell_type": "markdown",
   "id": "086d4f59-dde2-43fc-9340-47172187aa41",
   "metadata": {
    "tags": []
   },
   "source": [
    "## Select data"
   ]
  },
  {
   "cell_type": "markdown",
   "id": "87a6f808-02c7-4b27-901a-87d9af35221a",
   "metadata": {},
   "source": [
    "### Select data source"
   ]
  },
  {
   "cell_type": "markdown",
   "id": "7c2cd7f4-e4d6-497e-8fcb-eff91792bcde",
   "metadata": {},
   "source": [
    "#### MovieLens 1M\n",
    "[Расписать про то, зачем взяли этот датасет, вывести по несколько строчек с каждого .dat файла]"
   ]
  },
  {
   "cell_type": "markdown",
   "id": "90bc3828-9b1a-46f7-a870-930dea0cc1b6",
   "metadata": {},
   "source": [
    "#### IMDB\n",
    "The IMDB datasets provide much information about different movies and series. We use it to augment existing model with movies features and get better quality of the recommender system. \n",
    "\n",
    "1. The first dataset \"title.basics.tsv.gz\" is the entrypoint dataset with various information. First, it matches titles to their inner IMDB identifiers, which are necessary to navigate other datasets. We use this to integrate IMDB data into movielens data. Second, it contains information about title genres, which is used further.\n",
    "2. The second dataset \"title.crew.tsv.gz\" contains information about title directors, which will further be used for feature construction.\n",
    "3. Finally, \"title.ratings.tsv.gz\" provides information about title average ratings and number of votes given to them.\n",
    "\n",
    "IMDB datasets are provided by IMDB itself: https://datasets.imdbws.com"
   ]
  },
  {
   "cell_type": "code",
   "execution_count": 2,
   "id": "e38ad1d7-b91c-4855-a980-3970b9c7c0b8",
   "metadata": {},
   "outputs": [],
   "source": [
    "from src.datasets.download_imdb import load_imdb_datasets"
   ]
  },
  {
   "cell_type": "code",
   "execution_count": 3,
   "id": "af4f09a1-43eb-43e6-a834-7b86a048890d",
   "metadata": {},
   "outputs": [
    {
     "name": "stdout",
     "output_type": "stream",
     "text": [
      "Downloading https://datasets.imdbws.com/title.basics.tsv.gz\n",
      "[██████████████████████████████████████████████████]\n",
      "Decompressing... Removing...\n",
      "Downloading https://datasets.imdbws.com/title.crew.tsv.gz\n",
      "[██████████████████████████████████████████████████]\n",
      "Decompressing... Removing...\n",
      "Downloading https://datasets.imdbws.com/title.ratings.tsv.gz\n",
      "[██████████████████████████████████████████████████]\n",
      "Decompressing... Removing...\n"
     ]
    }
   ],
   "source": [
    "load_imdb_datasets()"
   ]
  },
  {
   "cell_type": "markdown",
   "id": "ade2c459-819b-4a8b-ab5f-28f64a03d8bb",
   "metadata": {},
   "source": [
    "### Select attributes and records"
   ]
  },
  {
   "cell_type": "markdown",
   "id": "546efefe-4adf-46d7-8239-157c53a25937",
   "metadata": {},
   "source": [
    "#### Movie attributes\n",
    "Movie attributes are taken from IMDB dataset.\n",
    "- **Ratings:** We use ratings statistics from IMDB dataset. Ratings statistic includes average rating over different users, and number of votes for the film. Average movie rating by itself is a great approximator for each particular user-movie interaction, it's applicability is obvious. Further, we've considered the number of votes to be a representative statistics for the film popularity, which in turn can be a good feature for the recommender system. \n",
    "- **Genres:** We also use information about the film genre. Genre is a categorical value and its processing is explained further.\n",
    "\n",
    "#### User attributes\n",
    "Further we go to the user features. All user features come from the MovieLens dataset\n",
    "- **Age:** The MovieLens dataset provides this information about users, and obviously the user age can explain a substantial part of variance in user preferences. So we use it.\n",
    "- **Occupation:** What does the user do to not die from hunger. Occupation largely influences the interests, so we use it.\n",
    "- **Gender:** Also influences the interest, so we use it too."
   ]
  },
  {
   "cell_type": "markdown",
   "id": "53aab9d4-7245-4056-8447-066e3df63e95",
   "metadata": {},
   "source": [
    "#### Records\n",
    "The IMDB contains extensive amount of records for every at-least-slightly popular title, which are not presented in the movielens dataset. Only a small subset of titles, which are presented in the MovieLens dataset is used"
   ]
  },
  {
   "cell_type": "markdown",
   "id": "62df30b3-256d-42be-970b-99ed2abe9fa6",
   "metadata": {},
   "source": [
    "## Clean data\n",
    "Before starting the project we have carefully investigated different sources of data and have chosen those that are the most exhaustive and exact. Thus, the data is clean and there is no need to clean it more."
   ]
  },
  {
   "cell_type": "markdown",
   "id": "6a01c0dc-6dfa-4993-b939-bf109bf20325",
   "metadata": {},
   "source": [
    "## Construct data"
   ]
  },
  {
   "cell_type": "markdown",
   "id": "6775e21d-9063-4bda-a072-d01f41cb0772",
   "metadata": {},
   "source": [
    "#### Convert initial MovieLens' .dat files to .csv files and merge these .csv files\n",
    "##### TODO RIZVAN\n",
    "первое - это не construct data, это скорее всего format data (можешь чекнуть как было у Хамзы)\n",
    "\n",
    "второе - напиши воды, типа почему это преобразование нужно, как именно ты мёржишь, что нибудь типа \"The data format provided by movielens is not largely used and was unknown to some team members, so we decided to convert it to a more appropriate format\"\n",
    "\n",
    "третье - добавь сюда свою фичу про популярных режиссёров, вот она как раз construct data"
   ]
  },
  {
   "cell_type": "code",
   "execution_count": 4,
   "id": "15126092-58e7-471c-a153-3cc6090088d1",
   "metadata": {},
   "outputs": [
    {
     "name": "stderr",
     "output_type": "stream",
     "text": [
      "INFO:root:Converting movies file to .csv format...\n",
      "INFO:root:Converting ratings file to .csv format...\n",
      "INFO:root:Converting users file to .csv format...\n",
      "INFO:root:Merging the dataframes...\n",
      "INFO:root:Data is ready.\n"
     ]
    }
   ],
   "source": [
    "merge_movie_lens()"
   ]
  },
  {
   "cell_type": "markdown",
   "id": "c8cf36f5-c749-4fd4-97ea-a797ca17c850",
   "metadata": {},
   "source": [
    "#### Movie attributes\n",
    "- **Ratings:** The number of votes comes from a distribution with a very heavy right tail, that makes the feature hard to use for linear models (which our recommender system is). Thus, during the augmentation procedure we apply log scaling for the feature. \n",
    "\n",
    "#### User attributes\n",
    "- **Age:** The movielens dataset has only a few unique values for the ages, they presumably were splitted to several bins. This decision is quite useful for our system, as the dependency between the user age and their preferences is not really linear, so we will one-hot encode these values. However, we also add the log value of the user age (just in case :O, there is no such a notion of \"too much features\")."
   ]
  },
  {
   "cell_type": "markdown",
   "id": "4059d484-ba30-463c-9538-312d0b4fd45b",
   "metadata": {},
   "source": [
    "## Integrate data"
   ]
  },
  {
   "cell_type": "markdown",
   "id": "a57f54a8-153b-4234-a579-c4d004551582",
   "metadata": {},
   "source": [
    "### Matching IMDB titles to Movielens titles"
   ]
  },
  {
   "cell_type": "markdown",
   "id": "b818766e-bce9-411d-9bc4-d3b750043e07",
   "metadata": {},
   "source": [
    "Before augmenting the movielens dataset with IMDB titles we need to establish one-to-one correspondence between titles in these datasets. \n",
    "\n",
    "As soon as titles are written in a slightly different ways, some manual string processing was applyed. This includes removing the year from the title and moving articles \"A\", \"The\" to the beginning of the string."
   ]
  },
  {
   "cell_type": "code",
   "execution_count": 5,
   "id": "4158eee4-9d52-4f69-a070-74590c385aad",
   "metadata": {},
   "outputs": [
    {
     "name": "stderr",
     "output_type": "stream",
     "text": [
      "/opt/homebrew/Caskroom/miniforge/base/envs/core_ds/lib/python3.10/site-packages/IPython/core/interactiveshell.py:3251: DtypeWarning: Columns (4,5) have mixed types.Specify dtype option on import or set low_memory=False.\n",
      "  exec(code_obj, self.user_global_ns, self.user_ns)\n"
     ]
    },
    {
     "data": {
      "text/html": [
       "<div>\n",
       "<style scoped>\n",
       "    .dataframe tbody tr th:only-of-type {\n",
       "        vertical-align: middle;\n",
       "    }\n",
       "\n",
       "    .dataframe tbody tr th {\n",
       "        vertical-align: top;\n",
       "    }\n",
       "\n",
       "    .dataframe thead th {\n",
       "        text-align: right;\n",
       "    }\n",
       "</style>\n",
       "<table border=\"1\" class=\"dataframe\">\n",
       "  <thead>\n",
       "    <tr style=\"text-align: right;\">\n",
       "      <th></th>\n",
       "      <th>title</th>\n",
       "      <th>tconst</th>\n",
       "    </tr>\n",
       "  </thead>\n",
       "  <tbody>\n",
       "    <tr>\n",
       "      <th>0</th>\n",
       "      <td>One Flew Over the Cuckoo's Nest (1975)</td>\n",
       "      <td>tt0073486</td>\n",
       "    </tr>\n",
       "    <tr>\n",
       "      <th>1</th>\n",
       "      <td>James and the Giant Peach (1996)</td>\n",
       "      <td>tt0116683</td>\n",
       "    </tr>\n",
       "    <tr>\n",
       "      <th>2</th>\n",
       "      <td>My Fair Lady (1964)</td>\n",
       "      <td>tt0058385</td>\n",
       "    </tr>\n",
       "    <tr>\n",
       "      <th>3</th>\n",
       "      <td>Erin Brockovich (2000)</td>\n",
       "      <td>tt0195685</td>\n",
       "    </tr>\n",
       "    <tr>\n",
       "      <th>4</th>\n",
       "      <td>Bug's Life, A (1998)</td>\n",
       "      <td>tt0120623</td>\n",
       "    </tr>\n",
       "  </tbody>\n",
       "</table>\n",
       "</div>"
      ],
      "text/plain": [
       "                                    title     tconst\n",
       "0  One Flew Over the Cuckoo's Nest (1975)  tt0073486\n",
       "1        James and the Giant Peach (1996)  tt0116683\n",
       "2                     My Fair Lady (1964)  tt0058385\n",
       "3                  Erin Brockovich (2000)  tt0195685\n",
       "4                    Bug's Life, A (1998)  tt0120623"
      ]
     },
     "execution_count": 5,
     "metadata": {},
     "output_type": "execute_result"
    }
   ],
   "source": [
    "movielens = pd.read_csv(\"data/movie_lens/movie_lens_1m.csv\")\n",
    "imdb = pd.read_csv(\"data/imdb/title.basics.tsv\", sep='\\t')\n",
    "imdb['originalTitle'] = imdb.originalTitle.astype(str)\n",
    "imdb['startYear'] = imdb.startYear.astype(str)\n",
    "\n",
    "searcher = ImdbSearcher(imdb)\n",
    "title_to_imdb_id = pd.read_csv(\"data/movielens_to_imdb_mapping.csv\")\n",
    "# title_to_imdb_id = pd.DataFrame({\"title\": movielens.Title.unique()})\n",
    "# title_to_imdb_id['tconst'] = title_to_imdb_id.title.progress_apply(get_tconst_by_title, args=[searcher])\n",
    "# title_to_imdb_id.to_csv(\"data/movielens_to_imdb_mapping.csv\", index=False)\n",
    "title_to_imdb_id.head()"
   ]
  },
  {
   "cell_type": "markdown",
   "id": "d85a81ab-119b-4441-afff-b57474294d39",
   "metadata": {},
   "source": [
    "The resulting dataframe is further used for IMDB features integration to the MovieLens dataset."
   ]
  },
  {
   "cell_type": "markdown",
   "id": "1fc52170-5bcd-4152-8b07-a8a1c466a133",
   "metadata": {
    "tags": []
   },
   "source": [
    "## Format data"
   ]
  },
  {
   "cell_type": "markdown",
   "id": "31a6450e-2c4a-4239-906f-f4f5a7e57a0b",
   "metadata": {},
   "source": [
    "#### Movie data\n",
    "- **Genres:** One movie may have several genres, and the genre is a categorial value, so we make a bitmask for each film, which has 1 if the movie belongs to the corresponding genre. The augmentation gives us 18 feature columns for the film.\n",
    "\n",
    "#### User data\n",
    "- **Age:** again just make a bitmask, encoding the user age. For this feature, one user may have only one age value, so it basically becomes one-hot encoding (OHE).\n",
    "- **Occupation:** Next, we encode the occupation of users. Again, we create a bitmask which is basically OHE. Twenty one new feature columns.\n",
    "- **Gender:** Finally, the gender. We were brave enough to binarize this value. One new feature, one more column."
   ]
  },
  {
   "cell_type": "markdown",
   "id": "c5871b20-f4e0-4a9e-8962-8676fd02b853",
   "metadata": {},
   "source": [
    "## Apply Selection + Construction + Integration + Formatting"
   ]
  },
  {
   "cell_type": "markdown",
   "id": "4d1cf90e-d6b6-40a3-95b0-c72cd3074e65",
   "metadata": {},
   "source": [
    "#### Movie Ratings\n",
    "This step gives us 2 features, average movie rating and log of the number of votes"
   ]
  },
  {
   "cell_type": "code",
   "execution_count": 6,
   "id": "10ca264a-dbe9-44aa-b9ec-f324d178e2e5",
   "metadata": {},
   "outputs": [],
   "source": [
    "augmented_movielens = augment_with_ratings(movielens)"
   ]
  },
  {
   "cell_type": "markdown",
   "id": "f98bc7e7-713c-45c5-8e22-c9c7178bec7f",
   "metadata": {},
   "source": [
    "As it was discussed above, the log-scaled number of votes may be a good feature for our linear model. Observe the nearly-normal distribution obtained for this feature."
   ]
  },
  {
   "cell_type": "code",
   "execution_count": 7,
   "id": "ab1baef4-7e97-4270-9ee1-745322863610",
   "metadata": {},
   "outputs": [
    {
     "data": {
      "text/plain": [
       "<AxesSubplot:title={'center':'Logarithm of Num votes distribution'}, ylabel='Frequency'>"
      ]
     },
     "execution_count": 7,
     "metadata": {},
     "output_type": "execute_result"
    },
    {
     "data": {
      "image/png": "[encoded data removed]",
      "text/plain": [
       "<Figure size 432x288 with 1 Axes>"
      ]
     },
     "metadata": {
      "needs_background": "light"
     },
     "output_type": "display_data"
    }
   ],
   "source": [
    "augmented_movielens.logNumVotesMovie.plot.hist(title=\"Logarithm of Num votes distribution\")"
   ]
  },
  {
   "cell_type": "markdown",
   "id": "e2a25827-bfd5-4c5b-ba16-02bbd4160c61",
   "metadata": {},
   "source": [
    "#### Top directors\n",
    "This step gives us 1 new feature"
   ]
  },
  {
   "cell_type": "markdown",
   "id": "22d3e2a2-4064-4d41-8f8c-7165724c39ee",
   "metadata": {},
   "source": [
    "We add a feature stating whether top director is involved in a particular film."
   ]
  },
  {
   "cell_type": "code",
   "execution_count": 8,
   "id": "e14f4865-c0a2-4326-8e26-0cc4e7224d3f",
   "metadata": {},
   "outputs": [],
   "source": [
    "augmented_movielens = add_top_directors(augmented_movielens)"
   ]
  },
  {
   "cell_type": "code",
   "execution_count": 9,
   "id": "a5361aab-6b5e-42c5-b9eb-2da898ef131e",
   "metadata": {},
   "outputs": [
    {
     "name": "stdout",
     "output_type": "stream",
     "text": [
      "Fraction of movies created by popular directors is 12.1%\n"
     ]
    }
   ],
   "source": [
    "print(f\"Fraction of movies created by popular directors is {round(augmented_movielens.topDirectorMovie.mean() * 100, 1)}%\")"
   ]
  },
  {
   "cell_type": "markdown",
   "id": "251d39d0-829a-431d-afdd-39c619f83f54",
   "metadata": {},
   "source": [
    "#### Movie genres"
   ]
  },
  {
   "cell_type": "markdown",
   "id": "4d29e12f-5a48-43ba-a9e2-26e3663db89f",
   "metadata": {},
   "source": [
    "Thi step gives 7 feature columns"
   ]
  },
  {
   "cell_type": "code",
   "execution_count": 10,
   "id": "9c710dfe-d0a9-420f-94f0-5675a07bcc1c",
   "metadata": {},
   "outputs": [],
   "source": [
    "augmented_movielens = encode_bitmask_genres(augmented_movielens)"
   ]
  },
  {
   "cell_type": "code",
   "execution_count": 11,
   "id": "a704ac55-4003-476f-be86-c9ff508ff3d8",
   "metadata": {},
   "outputs": [
    {
     "data": {
      "text/plain": [
       "<AxesSubplot:title={'center':'Genre feature distribution'}>"
      ]
     },
     "execution_count": 11,
     "metadata": {},
     "output_type": "execute_result"
    },
    {
     "data": {
      "image/png": "[encoded data removed]",
      "text/plain": [
       "<Figure size 432x288 with 1 Axes>"
      ]
     },
     "metadata": {
      "needs_background": "light"
     },
     "output_type": "display_data"
    }
   ],
   "source": [
    "augmented_movielens.loc[:, \"isFilm-NoirMovie\":].sum(axis=0).plot.barh(title=\"Genre feature distribution\")"
   ]
  },
  {
   "cell_type": "markdown",
   "id": "6ae0aedf-03dd-42f1-9ebe-fb8b366327bb",
   "metadata": {},
   "source": [
    "#### User ages"
   ]
  },
  {
   "cell_type": "markdown",
   "id": "671734ed-e7e8-4f54-aaac-3c196ba11986",
   "metadata": {},
   "source": [
    "This step gives us 8 feature columns."
   ]
  },
  {
   "cell_type": "code",
   "execution_count": 12,
   "id": "df72dd15-aaca-40f9-96e7-38f808504b6a",
   "metadata": {},
   "outputs": [],
   "source": [
    "augmented_movielens = encode_ohe_age(augmented_movielens)"
   ]
  },
  {
   "cell_type": "code",
   "execution_count": 13,
   "id": "dba54435-52c8-4f99-a829-b9f9dd233ba5",
   "metadata": {},
   "outputs": [
    {
     "data": {
      "text/plain": [
       "<AxesSubplot:title={'center':'Age feature distribution'}>"
      ]
     },
     "execution_count": 13,
     "metadata": {},
     "output_type": "execute_result"
    },
    {
     "data": {
      "image/png": "[encoded data removed]",
      "text/plain": [
       "<Figure size 432x288 with 1 Axes>"
      ]
     },
     "metadata": {
      "needs_background": "light"
     },
     "output_type": "display_data"
    }
   ],
   "source": [
    "augmented_movielens.iloc[:, -7:].sum(axis=0).plot.barh(title=\"Age feature distribution\")"
   ]
  },
  {
   "cell_type": "markdown",
   "id": "00c7f153-59d3-4443-bfc4-02ad4e0d8a30",
   "metadata": {},
   "source": [
    "#### Users' occupation\n",
    "This step gives 21 feature columns"
   ]
  },
  {
   "cell_type": "code",
   "execution_count": 14,
   "id": "81d73a70-46fe-41f8-95a7-369d331e897b",
   "metadata": {},
   "outputs": [],
   "source": [
    "augmented_movielens = encode_ohe_occupation(augmented_movielens)"
   ]
  },
  {
   "cell_type": "code",
   "execution_count": 15,
   "id": "27389d4d-358d-479c-ac8b-ccf60da1fafa",
   "metadata": {},
   "outputs": [
    {
     "data": {
      "text/plain": [
       "<AxesSubplot:title={'center':'Users occupation statistics'}>"
      ]
     },
     "execution_count": 15,
     "metadata": {},
     "output_type": "execute_result"
    },
    {
     "data": {
      "image/png": "[encoded data removed]",
      "text/plain": [
       "<Figure size 432x288 with 1 Axes>"
      ]
     },
     "metadata": {
      "needs_background": "light"
     },
     "output_type": "display_data"
    }
   ],
   "source": [
    "augmented_movielens.loc[:, \"isOccupation10User\":].sum(axis=0).plot.barh(title=\"Users occupation statistics\")"
   ]
  },
  {
   "cell_type": "markdown",
   "id": "875440ba-eb8f-4251-864b-36d505254a61",
   "metadata": {},
   "source": [
    "#### Users' genders\n",
    "Just one feature column"
   ]
  },
  {
   "cell_type": "code",
   "execution_count": 16,
   "id": "c9d8ab56-b6e3-4c46-9ae1-b0c5a497e2db",
   "metadata": {},
   "outputs": [],
   "source": [
    "augmented_movielens = process_gender(augmented_movielens)"
   ]
  },
  {
   "cell_type": "code",
   "execution_count": 17,
   "id": "515e2cfb-49be-4a30-a859-3e3df931aa33",
   "metadata": {},
   "outputs": [
    {
     "name": "stdout",
     "output_type": "stream",
     "text": [
      "The 75.4 of the users self-identify as men\n"
     ]
    }
   ],
   "source": [
    "print(f\"The {round(100 * augmented_movielens.GenderUser.mean(), 1)} of the users self-identify as men\")"
   ]
  },
  {
   "cell_type": "code",
   "execution_count": 18,
   "id": "cd75b49d-485f-4e65-98b2-47a10d124a1e",
   "metadata": {},
   "outputs": [
    {
     "data": {
      "text/plain": [
       "Index(['UserID', 'MovieID', 'Rating', 'Timestamp', 'Title', 'ZipCode',\n",
       "       'averageRatingMovie', 'logNumVotesMovie', 'topDirectorMovie',\n",
       "       'isFilm-NoirMovie', 'isFantasyMovie', 'isAnimationMovie',\n",
       "       'isMusicalMovie', 'isSci-FiMovie', 'isWesternMovie', 'isRomanceMovie',\n",
       "       'isHorrorMovie', 'isDocumentaryMovie', 'isActionMovie',\n",
       "       'isAdventureMovie', 'isDramaMovie', 'isCrimeMovie', 'isComedyMovie',\n",
       "       'isWarMovie', 'isMysteryMovie', 'isThrillerMovie', 'isChildren'sMovie',\n",
       "       'logAgeUser', 'isAge1User', 'isAge56User', 'isAge25User', 'isAge45User',\n",
       "       'isAge50User', 'isAge35User', 'isAge18User', 'isOccupation10User',\n",
       "       'isOccupation16User', 'isOccupation15User', 'isOccupation7User',\n",
       "       'isOccupation20User', 'isOccupation9User', 'isOccupation1User',\n",
       "       'isOccupation12User', 'isOccupation17User', 'isOccupation0User',\n",
       "       'isOccupation3User', 'isOccupation14User', 'isOccupation4User',\n",
       "       'isOccupation11User', 'isOccupation8User', 'isOccupation19User',\n",
       "       'isOccupation2User', 'isOccupation18User', 'isOccupation5User',\n",
       "       'isOccupation13User', 'isOccupation6User', 'GenderUser'],\n",
       "      dtype='object')"
      ]
     },
     "execution_count": 18,
     "metadata": {},
     "output_type": "execute_result"
    }
   ],
   "source": [
    "augmented_movielens.columns"
   ]
  },
  {
   "cell_type": "markdown",
   "id": "34a20adc-175b-473b-beae-fe482be7aec5",
   "metadata": {},
   "source": [
    "## Save the preprocessed data"
   ]
  },
  {
   "cell_type": "code",
   "execution_count": 19,
   "id": "c2b8ad60-f2ba-4e9c-9df5-ecd53a91adc5",
   "metadata": {},
   "outputs": [],
   "source": [
    "augmented_movielens.to_csv(\"data/augmented_movie_lens.csv\", index=False)"
   ]
  }
 ],
 "metadata": {
  "kernelspec": {
   "display_name": "core_ds",
   "language": "python",
   "name": "core_ds"
  },
  "language_info": {
   "codemirror_mode": {
    "name": "ipython",
    "version": 3
   },
   "file_extension": ".py",
   "mimetype": "text/x-python",
   "name": "python",
   "nbconvert_exporter": "python",
   "pygments_lexer": "ipython3",
   "version": "3.10.2"
  }
 },
 "nbformat": 4,
 "nbformat_minor": 5
}
