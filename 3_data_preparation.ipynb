{
 "cells": [
  {
   "cell_type": "code",
   "execution_count": 1,
   "id": "cd45fa17-f550-417c-84ba-908c944020f2",
   "metadata": {},
   "outputs": [],
   "source": [
    "import sys\n",
    "import os\n",
    "\n",
    "import pandas as pd\n",
    "import numpy as np\n",
    "\n",
    "sys.path.append(\"src/datasets/\")"
   ]
  },
  {
   "cell_type": "markdown",
   "id": "b1b80073-3f7f-4351-b679-92aca27794c0",
   "metadata": {},
   "source": [
    "# TODO: RIZVAN\n",
    "describe movielens loading procedure"
   ]
  },
  {
   "cell_type": "markdown",
   "id": "af002ac7-ec89-4f39-92c0-907cc556c5e8",
   "metadata": {},
   "source": [
    "# Loading IMDB datasets"
   ]
  },
  {
   "cell_type": "markdown",
   "id": "1ba29a04-27d8-4609-b063-f6e47d21b15d",
   "metadata": {},
   "source": [
    "Datasets with IMDB info are loaded directly from IMDB site: https://datasets.imdbws.com"
   ]
  },
  {
   "cell_type": "code",
   "execution_count": 2,
   "id": "2f80569a-9b0d-4e5e-b8da-f12bb151bfbb",
   "metadata": {},
   "outputs": [],
   "source": [
    "from src.datasets.download_imdb import load_imdb_datasets"
   ]
  },
  {
   "cell_type": "code",
   "execution_count": 3,
   "id": "013f8a91-c6ba-4889-9c57-34d63bf840e8",
   "metadata": {},
   "outputs": [
    {
     "name": "stdout",
     "output_type": "stream",
     "text": [
      "Downloading https://datasets.imdbws.com/title.basics.tsv.gz\n",
      "[██████████████████████████████████████████████████]\n",
      "Decompressing... Removing...\n",
      "Downloading https://datasets.imdbws.com/title.crew.tsv.gz\n",
      "[██████████████████████████████████████████████████]\n",
      "Decompressing... Removing...\n",
      "Downloading https://datasets.imdbws.com/title.ratings.tsv.gz\n",
      "[██████████████████████████████████████████████████]\n",
      "Decompressing... Removing...\n"
     ]
    }
   ],
   "source": [
    "load_imdb_datasets()"
   ]
  },
  {
   "cell_type": "markdown",
   "id": "a8a0ad42-fa0f-431b-8934-a4078b0bf671",
   "metadata": {},
   "source": [
    "# Matching IMDB titles to Movielens titles"
   ]
  },
  {
   "cell_type": "markdown",
   "id": "67046aed-142c-44b4-a50e-2aa2f60c289b",
   "metadata": {},
   "source": [
    "Before augmenting the movielens dataset with IMDB titles we need to establish one-to-one correspondence between titles in these datasets. \n",
    "\n",
    "As soon as titles are written in a slightly different ways, some manual string processing was applyed. This includes removing the year from the title and moving articles \"A\", \"The\" to the beginning of the string."
   ]
  },
  {
   "cell_type": "code",
   "execution_count": 4,
   "id": "6e319436-9a6c-4179-846c-033618c2c7fb",
   "metadata": {},
   "outputs": [],
   "source": [
    "from src.datasets.extract_movielens_to_imdb_mapping import get_tconst_by_title\n",
    "from src.datasets.imdb_management import ImdbSearcher"
   ]
  },
  {
   "cell_type": "code",
   "execution_count": 5,
   "id": "9febeaee-913d-45ba-888e-0f2ee8c292cf",
   "metadata": {},
   "outputs": [
    {
     "name": "stderr",
     "output_type": "stream",
     "text": [
      "/opt/homebrew/Caskroom/miniforge/base/envs/core_ds/lib/python3.10/site-packages/IPython/core/interactiveshell.py:3251: DtypeWarning: Columns (4,5) have mixed types.Specify dtype option on import or set low_memory=False.\n",
      "  exec(code_obj, self.user_global_ns, self.user_ns)\n"
     ]
    },
    {
     "data": {
      "text/html": [
       "<div>\n",
       "<style scoped>\n",
       "    .dataframe tbody tr th:only-of-type {\n",
       "        vertical-align: middle;\n",
       "    }\n",
       "\n",
       "    .dataframe tbody tr th {\n",
       "        vertical-align: top;\n",
       "    }\n",
       "\n",
       "    .dataframe thead th {\n",
       "        text-align: right;\n",
       "    }\n",
       "</style>\n",
       "<table border=\"1\" class=\"dataframe\">\n",
       "  <thead>\n",
       "    <tr style=\"text-align: right;\">\n",
       "      <th></th>\n",
       "      <th>title</th>\n",
       "      <th>tconst</th>\n",
       "    </tr>\n",
       "  </thead>\n",
       "  <tbody>\n",
       "    <tr>\n",
       "      <th>0</th>\n",
       "      <td>One Flew Over the Cuckoo's Nest (1975)</td>\n",
       "      <td>tt0073486</td>\n",
       "    </tr>\n",
       "    <tr>\n",
       "      <th>1</th>\n",
       "      <td>James and the Giant Peach (1996)</td>\n",
       "      <td>tt0116683</td>\n",
       "    </tr>\n",
       "    <tr>\n",
       "      <th>2</th>\n",
       "      <td>My Fair Lady (1964)</td>\n",
       "      <td>tt0058385</td>\n",
       "    </tr>\n",
       "    <tr>\n",
       "      <th>3</th>\n",
       "      <td>Erin Brockovich (2000)</td>\n",
       "      <td>tt0195685</td>\n",
       "    </tr>\n",
       "    <tr>\n",
       "      <th>4</th>\n",
       "      <td>Bug's Life, A (1998)</td>\n",
       "      <td>tt0120623</td>\n",
       "    </tr>\n",
       "  </tbody>\n",
       "</table>\n",
       "</div>"
      ],
      "text/plain": [
       "                                    title     tconst\n",
       "0  One Flew Over the Cuckoo's Nest (1975)  tt0073486\n",
       "1        James and the Giant Peach (1996)  tt0116683\n",
       "2                     My Fair Lady (1964)  tt0058385\n",
       "3                  Erin Brockovich (2000)  tt0195685\n",
       "4                    Bug's Life, A (1998)  tt0120623"
      ]
     },
     "execution_count": 5,
     "metadata": {},
     "output_type": "execute_result"
    }
   ],
   "source": [
    "movielens = pd.read_csv(\"data/movie_lens/movie_lens_1m.csv\")\n",
    "imdb = pd.read_csv(\"data/imdb/title.basics.tsv\", sep='\\t')\n",
    "imdb['originalTitle'] = imdb.originalTitle.astype(str)\n",
    "imdb['startYear'] = imdb.startYear.astype(str)\n",
    "\n",
    "searcher = ImdbSearcher(imdb)\n",
    "title_to_imdb_id = pd.read_csv(\"data/movielens_to_imdb_mapping.csv\")\n",
    "# title_to_imdb_id = pd.DataFrame({\"title\": movielens.Title.unique()})\n",
    "# title_to_imdb_id['tconst'] = title_to_imdb_id.title.apply(get_tconst_by_title, args=[searcher])\n",
    "# title_to_imdb_id.to_csv(\"data/movielens_to_imdb_mapping.csv\", index=False)\n",
    "title_to_imdb_id.head(5)"
   ]
  },
  {
   "cell_type": "markdown",
   "id": "2708ad9d-d4af-4831-b1f1-3d58ba818117",
   "metadata": {},
   "source": [
    "# Dataset augmentation"
   ]
  },
  {
   "cell_type": "code",
   "execution_count": 6,
   "id": "1aaca250-3516-454e-af23-a61dbc65c7d4",
   "metadata": {},
   "outputs": [],
   "source": [
    "from src.datasets.augment_movielens import *"
   ]
  },
  {
   "cell_type": "markdown",
   "id": "d18e0cc2-b548-4111-baba-932120a6bc4b",
   "metadata": {},
   "source": [
    "## Ratings statistics\n",
    "First, we add ratings statistics from IMDB dataset. Ratings statistic includes average rating over different users, and number of votes for the film. We've considered the number of votes to be a representative statistics for the film popularity, which in turn can be a good feature for the recommender system.\n",
    "\n",
    "However, the number of votes comes from a distribution with a very heavy right tail, that makes the feature hard to use for linear models (which our recommender system is). Thus, during the augmentation procedure we apply log scaling for the feature.\n",
    "\n",
    "This augmentation gives us 2 features for the film"
   ]
  },
  {
   "cell_type": "code",
   "execution_count": 7,
   "id": "39680923-1513-43b6-ae2c-49c38863bdbd",
   "metadata": {},
   "outputs": [],
   "source": [
    "augmented_movielens = augment_with_ratings(movielens)"
   ]
  },
  {
   "cell_type": "code",
   "execution_count": 8,
   "id": "d1469d5d-cf81-49c2-8160-652d3bc5c484",
   "metadata": {},
   "outputs": [
    {
     "data": {
      "text/plain": [
       "<AxesSubplot:title={'center':'Logarithm of Num votes distribution'}, ylabel='Frequency'>"
      ]
     },
     "execution_count": 8,
     "metadata": {},
     "output_type": "execute_result"
    },
    {
     "data": {
      "image/png": "[encoded data removed]",
      "text/plain": [
       "<Figure size 432x288 with 1 Axes>"
      ]
     },
     "metadata": {
      "needs_background": "light"
     },
     "output_type": "display_data"
    }
   ],
   "source": [
    "augmented_movielens.logNumVotesMovie.plot.hist(title=\"Logarithm of Num votes distribution\")"
   ]
  },
  {
   "cell_type": "markdown",
   "id": "d75c8eac-6795-44f0-900c-faef19dd3ea2",
   "metadata": {},
   "source": [
    "## Movie genre\n",
    "We further augment the dataset with the movie genre. One movie may have several genres, and the genre is a categorial value, so we make a bitmask for each film, which has 1 if the movie belongs to the corresponding genre.\n",
    "\n",
    "The augmentation gives us 18 features for the film"
   ]
  },
  {
   "cell_type": "code",
   "execution_count": 9,
   "id": "2ed9e385-a979-4151-8f59-95b54f0052a3",
   "metadata": {},
   "outputs": [],
   "source": [
    "augmented_movielens = encode_bitmask_genres(augmented_movielens)"
   ]
  },
  {
   "cell_type": "code",
   "execution_count": 10,
   "id": "d7b33bc9-0812-4478-8c0a-aeb91b58b5a7",
   "metadata": {},
   "outputs": [
    {
     "data": {
      "text/plain": [
       "<AxesSubplot:title={'center':'Genre feature distribution'}>"
      ]
     },
     "execution_count": 10,
     "metadata": {},
     "output_type": "execute_result"
    },
    {
     "data": {
      "image/png": "[encoded data removed]",
      "text/plain": [
       "<Figure size 432x288 with 1 Axes>"
      ]
     },
     "metadata": {
      "needs_background": "light"
     },
     "output_type": "display_data"
    }
   ],
   "source": [
    "augmented_movielens.loc[:, \"isFilm-NoirMovie\":].sum(axis=0).plot.barh(title=\"Genre feature distribution\")"
   ]
  },
  {
   "cell_type": "markdown",
   "id": "cb4e3f96-b67f-42b7-aa4f-cb34584f2bfc",
   "metadata": {},
   "source": [
    "## Directors information\n",
    "### TODO: RIZVAN\n",
    "make a description for the next cell as I did above and below"
   ]
  },
  {
   "cell_type": "code",
   "execution_count": 11,
   "id": "c95e74db-5139-44cb-95bf-95a5d610ef66",
   "metadata": {},
   "outputs": [],
   "source": [
    "augmented_movielens = add_top_directors(augmented_movielens)"
   ]
  },
  {
   "cell_type": "markdown",
   "id": "f0e15d14-a77c-443c-8a22-a9b28e6e5d1a",
   "metadata": {},
   "source": [
    "## User ages"
   ]
  },
  {
   "cell_type": "markdown",
   "id": "4c0de78f-08b0-4697-bae4-8f2ebac35e09",
   "metadata": {},
   "source": [
    "Further we go to the user features. First, we encode the age. For some reason, the movielens dataset has only a few unique values for the ages, so we assume they were splitted to several bins. This decision is quite useful for our system, as the dependency between the user age and their preferences is not really linear, so we again just make a bitmask, encoding the user age. For this feature, one user may have only one age value, so it basically becomes one-hot encoding (OHE).\n",
    "\n",
    "We also add the log value of the user age (just in case :O, there is no such a notion of \"too much features\").\n",
    "\n",
    "This augmentation gives us 8 features."
   ]
  },
  {
   "cell_type": "code",
   "execution_count": 12,
   "id": "fc61266e-daa4-4d17-ad7e-345f86ed2c5a",
   "metadata": {},
   "outputs": [],
   "source": [
    "augmented_movielens = encode_ohe_age(augmented_movielens)"
   ]
  },
  {
   "cell_type": "code",
   "execution_count": 13,
   "id": "d0d7a9ff-3e15-47ac-91b0-2c3b48117b5b",
   "metadata": {},
   "outputs": [
    {
     "data": {
      "text/plain": [
       "<AxesSubplot:title={'center':'Age feature distribution'}>"
      ]
     },
     "execution_count": 13,
     "metadata": {},
     "output_type": "execute_result"
    },
    {
     "data": {
      "image/png": "[encoded data removed]",
      "text/plain": [
       "<Figure size 432x288 with 1 Axes>"
      ]
     },
     "metadata": {
      "needs_background": "light"
     },
     "output_type": "display_data"
    }
   ],
   "source": [
    "augmented_movielens.iloc[:, -7:].sum(axis=0).plot.barh(title=\"Age feature distribution\")"
   ]
  },
  {
   "cell_type": "markdown",
   "id": "34ab703a-cd07-46ec-bbfb-378188e4ded8",
   "metadata": {},
   "source": [
    "## Users occupation\n",
    "Next, we encode the occupation of users. Again, a bitmask which is basically OHE"
   ]
  },
  {
   "cell_type": "code",
   "execution_count": 14,
   "id": "a060fa08-7682-4abb-809d-0dab4674d887",
   "metadata": {},
   "outputs": [],
   "source": [
    "augmented_movielens = encode_ohe_occupation(augmented_movielens)"
   ]
  },
  {
   "cell_type": "code",
   "execution_count": 15,
   "id": "b04f765c-ba34-49d7-8fcc-ea47d3f6ae9a",
   "metadata": {},
   "outputs": [
    {
     "data": {
      "text/plain": [
       "<AxesSubplot:title={'center':'Users occupation statistics'}>"
      ]
     },
     "execution_count": 15,
     "metadata": {},
     "output_type": "execute_result"
    },
    {
     "data": {
      "image/png": "[encoded data removed]",
      "text/plain": [
       "<Figure size 432x288 with 1 Axes>"
      ]
     },
     "metadata": {
      "needs_background": "light"
     },
     "output_type": "display_data"
    }
   ],
   "source": [
    "augmented_movielens.loc[:, \"isOccupation10User\":].sum(axis=0).plot.barh(title=\"Users occupation statistics\")"
   ]
  },
  {
   "cell_type": "markdown",
   "id": "0acaea57-be75-485e-bb3f-490b44219c9f",
   "metadata": {},
   "source": [
    "## Users gender\n",
    "Finally, the gender. We were brave enough to binarize this value."
   ]
  },
  {
   "cell_type": "code",
   "execution_count": 16,
   "id": "431c8536-de0a-4561-83b6-8829b3ea55df",
   "metadata": {},
   "outputs": [],
   "source": [
    "augmented_movielens = process_gender(augmented_movielens)"
   ]
  },
  {
   "cell_type": "code",
   "execution_count": 17,
   "id": "a397ca34-8702-42b1-9857-dfc162cd4bea",
   "metadata": {},
   "outputs": [
    {
     "name": "stdout",
     "output_type": "stream",
     "text": [
      "The 75.4 of the users self-identify as men\n"
     ]
    }
   ],
   "source": [
    "print(f\"The {round(100*augmented_movielens.GenderUser.mean(), 1)} of the users self-identify as men\")"
   ]
  }
 ],
 "metadata": {
  "kernelspec": {
   "display_name": "core_ds",
   "language": "python",
   "name": "core_ds"
  },
  "language_info": {
   "codemirror_mode": {
    "name": "ipython",
    "version": 3
   },
   "file_extension": ".py",
   "mimetype": "text/x-python",
   "name": "python",
   "nbconvert_exporter": "python",
   "pygments_lexer": "ipython3",
   "version": "3.10.2"
  }
 },
 "nbformat": 4,
 "nbformat_minor": 5
}
