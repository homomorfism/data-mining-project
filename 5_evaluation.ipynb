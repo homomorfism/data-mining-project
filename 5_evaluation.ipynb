{
 "cells": [
  {
   "cell_type": "markdown",
   "metadata": {},
   "source": [
    "#### Recommender System\n",
    "**Course:** Data Mining <br>\n",
    "**Authors:** Lada Morozova, Shamil Arslanov, Danis Alukaev, Maxim Faleev, Rizvan Iskaliev <br>\n",
    "**Group:** B19-DS-01"
   ]
  },
  {
   "cell_type": "markdown",
   "metadata": {},
   "source": [
    "# Step 5. Evaluation "
   ]
  },
  {
   "cell_type": "markdown",
   "metadata": {},
   "source": [
    "## 5.1 Evaluate Result"
   ]
  },
  {
   "cell_type": "markdown",
   "metadata": {},
   "source": [
    "### 5.1.1 Data Mining Results with respect to Business Success Criteria"
   ]
  },
  {
   "cell_type": "markdown",
   "metadata": {},
   "source": [
    "As a result of development process our team has created 3 models that outperform the baseline model in terms of accuracy. Data scientists performed data preparation and fancy feature engineering. Application of SoA model yields an increase of 15.2% in quality of recommendations.\n",
    "\n",
    "Introduction of a new recommender system might increase satisfaction of users by our service. This could result in increased time spent by users in the service, customer loyalty and flow of new users. In a long term owners may expect an improvement of the share in the global market. "
   ]
  },
  {
   "cell_type": "markdown",
   "metadata": {},
   "source": [
    "### 5.1.2 Approved Models"
   ]
  },
  {
   "cell_type": "markdown",
   "metadata": {},
   "source": [
    "Multilayer Perceptron, Factorization Machine, and Transformer, resolve problem of cold start by exploiting users' metadata. All models meet the data mining success criterion of 80% of accuracy on validation dataset."
   ]
  },
  {
   "cell_type": "markdown",
   "metadata": {},
   "source": [
    "## 5.2 Review Process"
   ]
  },
  {
   "cell_type": "markdown",
   "metadata": {},
   "source": [
    "Although we have reached the data mining goal, there are some points that could be improved:\n",
    "1. Can be utilized additional dataset or scraped data\n",
    "2. For training there were not used geodata, movie directors and top actors\n",
    "3. Hyperparameter tuning (via Bayesian methods) could be performed for larger number of trials\n",
    "4. As additional modeling technique we could use graph neural networks and variational autoencoders\n",
    "5. Could be performed external validation and applied A/B testing"
   ]
  },
  {
   "cell_type": "markdown",
   "metadata": {},
   "source": [
    "## 5.3 Determine Next Steps"
   ]
  },
  {
   "cell_type": "markdown",
   "metadata": {},
   "source": [
    "### 5.3.1 List of Possible Actions"
   ]
  },
  {
   "cell_type": "markdown",
   "metadata": {},
   "source": [
    "1. Scrapped data from open movie databases - time-consuming, but impact is not guaranteed \n",
    "2. Created new architectures, e.g. GNN, VAE - requires sophisticated data preparation\n",
    "3. Inference in Elastic Search - ok!\n",
    "4. Performed more sophisticated feature engineering - impact is not guaranteed "
   ]
  },
  {
   "cell_type": "markdown",
   "metadata": {},
   "source": [
    "### 5.3.2 Decision"
   ]
  },
  {
   "cell_type": "markdown",
   "metadata": {},
   "source": [
    "The project is already seems to be overall success, but next step might be creating API with inferenced Behaviour Sequence Transformer and deployment in Elastic Search. It also makes sense to perform statistical testing to ensure that there is a difference between baseline model and our SoA. "
   ]
  }
 ],
 "metadata": {
  "colab": {
   "authorship_tag": "ABX9TyN56UHBHmrfaXFDkddTWCbb",
   "collapsed_sections": [],
   "name": "evaluation.ipynb",
   "provenance": []
  },
  "interpreter": {
   "hash": "703acd46c16bd94cd5beac13ad6ec045c1e20ddb4c1ab0d31094b5ca090ec4cf"
  },
  "kernelspec": {
   "display_name": "Python 3.9.12 ('research')",
   "language": "python",
   "name": "python3"
  },
  "language_info": {
   "codemirror_mode": {
    "name": "ipython",
    "version": 3
   },
   "file_extension": ".py",
   "mimetype": "text/x-python",
   "name": "python",
   "nbconvert_exporter": "python",
   "pygments_lexer": "ipython3",
   "version": "3.9.12"
  }
 },
 "nbformat": 4,
 "nbformat_minor": 1
}
