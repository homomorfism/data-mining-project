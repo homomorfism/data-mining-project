{
 "cells": [
  {
   "cell_type": "markdown",
   "id": "61e1a574-f1cc-4392-9fb5-738ae4c27d74",
   "metadata": {},
   "source": [
    "# Imports"
   ]
  },
  {
   "cell_type": "code",
   "execution_count": 9,
   "id": "0daaf921-53d3-453b-8e63-444edb431666",
   "metadata": {},
   "outputs": [],
   "source": [
    "import sys\n",
    "sys.path.append(\"src/datasets\")\n",
    "\n",
    "import pandas as pd\n",
    "import logging\n",
    "from src.datasets.merge_movie_lens import merge_movie_lens\n",
    "from src.datasets.imdb_management import ImdbSearcher\n",
    "from src.datasets.extract_movielens_to_imdb_mapping import get_tconst_by_title\n",
    "from src.datasets.augment_movielens import *"
   ]
  },
  {
   "cell_type": "markdown",
   "id": "b4e1641a-4af5-448d-8bd8-444e8f28bb53",
   "metadata": {},
   "source": [
    "# Data preparation"
   ]
  },
  {
   "cell_type": "markdown",
   "id": "086d4f59-dde2-43fc-9340-47172187aa41",
   "metadata": {},
   "source": [
    "## Select data"
   ]
  },
  {
   "cell_type": "markdown",
   "id": "87a6f808-02c7-4b27-901a-87d9af35221a",
   "metadata": {},
   "source": [
    "### Select data source"
   ]
  },
  {
   "cell_type": "markdown",
   "id": "7c2cd7f4-e4d6-497e-8fcb-eff91792bcde",
   "metadata": {},
   "source": [
    "#### MovieLens 1M\n",
    "[Расписать про то, зачем взяли этот датасет, вывести по несколько строчек с каждого .dat файла]"
   ]
  },
  {
   "cell_type": "markdown",
   "id": "90bc3828-9b1a-46f7-a870-930dea0cc1b6",
   "metadata": {},
   "source": [
    "#### IMDB\n",
    "[Максим тут]"
   ]
  },
  {
   "cell_type": "markdown",
   "id": "ade2c459-819b-4a8b-ab5f-28f64a03d8bb",
   "metadata": {},
   "source": [
    "### Select attributes and records"
   ]
  },
  {
   "cell_type": "code",
   "execution_count": 1,
   "id": "4addcca1-6292-4ce8-a3ac-28fe9b4bf098",
   "metadata": {},
   "outputs": [],
   "source": [
    "# TODO Maxim"
   ]
  },
  {
   "cell_type": "markdown",
   "id": "62df30b3-256d-42be-970b-99ed2abe9fa6",
   "metadata": {},
   "source": [
    "## Clean data"
   ]
  },
  {
   "cell_type": "code",
   "execution_count": 3,
   "id": "330f013b-c2e1-4e92-901c-b2e2516f21bb",
   "metadata": {},
   "outputs": [],
   "source": [
    "# TODO Максим, распиши про преобразования (выкинуть половину IMDB)"
   ]
  },
  {
   "cell_type": "markdown",
   "id": "6a01c0dc-6dfa-4993-b939-bf109bf20325",
   "metadata": {},
   "source": [
    "## Construct data"
   ]
  },
  {
   "cell_type": "markdown",
   "id": "6775e21d-9063-4bda-a072-d01f41cb0772",
   "metadata": {},
   "source": [
    "#### Convert initial MovieLens' .dat files to .csv files and merge these .csv files"
   ]
  },
  {
   "cell_type": "code",
   "execution_count": 2,
   "id": "15126092-58e7-471c-a153-3cc6090088d1",
   "metadata": {},
   "outputs": [
    {
     "name": "stderr",
     "output_type": "stream",
     "text": [
      "INFO:root:Converting movies file to .csv format...\n",
      "INFO:root:Converting ratings file to .csv format...\n",
      "INFO:root:Converting users file to .csv format...\n",
      "INFO:root:Merging the dataframes...\n",
      "INFO:root:Data is ready.\n"
     ]
    }
   ],
   "source": [
    "merge_movie_lens()"
   ]
  },
  {
   "cell_type": "markdown",
   "id": "1a917a55-717b-49d7-9d04-b9e2be9bfef8",
   "metadata": {},
   "source": [
    "#### IMDB"
   ]
  },
  {
   "cell_type": "code",
   "execution_count": 3,
   "id": "accd11e2-7e2c-4b6d-a09a-96e0a03961e9",
   "metadata": {},
   "outputs": [],
   "source": [
    "# TODO Максим: напиши свою часть про IMDB"
   ]
  },
  {
   "cell_type": "markdown",
   "id": "4059d484-ba30-463c-9538-312d0b4fd45b",
   "metadata": {},
   "source": [
    "## Integrate data"
   ]
  },
  {
   "cell_type": "markdown",
   "id": "a57f54a8-153b-4234-a579-c4d004551582",
   "metadata": {},
   "source": [
    "### Matching IMDB titles to Movielens titles"
   ]
  },
  {
   "cell_type": "markdown",
   "id": "b818766e-bce9-411d-9bc4-d3b750043e07",
   "metadata": {},
   "source": [
    "Before augmenting the movielens dataset with IMDB titles we need to establish one-to-one correspondence between titles in these datasets. \n",
    "\n",
    "As soon as titles are written in a slightly different ways, some manual string processing was applyed. This includes removing the year from the title and moving articles \"A\", \"The\" to the beginning of the string."
   ]
  },
  {
   "cell_type": "code",
   "execution_count": null,
   "id": "4158eee4-9d52-4f69-a070-74590c385aad",
   "metadata": {},
   "outputs": [],
   "source": [
    "movielens = pd.read_csv(\"data/movie_lens/movie_lens_1m.csv\")\n",
    "imdb = pd.read_csv(\"data/imdb/title.basics.tsv\", sep='\\t')\n",
    "imdb['originalTitle'] = imdb.originalTitle.astype(str)\n",
    "imdb['startYear'] = imdb.startYear.astype(str)\n",
    "\n",
    "searcher = ImdbSearcher(imdb)\n",
    "title_to_imdb_id = pd.DataFrame({\"title\": movielens.Title.unique()})\n",
    "title_to_imdb_id['tconst'] = title_to_imdb_id.title.progress_apply(get_tconst_by_title, args=[searcher])\n",
    "title_to_imdb_id.to_csv(\"data/movielens_to_imdb_mapping.csv\", index=False)\n",
    "title_to_imdb_id.head()"
   ]
  },
  {
   "cell_type": "markdown",
   "id": "152111b7-268d-44cd-8136-e7929269f79b",
   "metadata": {
    "tags": []
   },
   "source": [
    "### Integrate features from IMDB dataset to the MovieLens 1M dataset"
   ]
  },
  {
   "cell_type": "markdown",
   "id": "ad1203df-0bae-4582-993d-2c05d30e6be7",
   "metadata": {},
   "source": [
    "#### Ratings"
   ]
  },
  {
   "cell_type": "markdown",
   "id": "c76dabec-8055-4554-a2ec-8fcfd705d332",
   "metadata": {},
   "source": [
    "First, we add ratings statistics from IMDB dataset. Ratings statistic includes average rating over different users, and number of votes for the film. We've considered the number of votes to be a representative statistics for the film popularity, which in turn can be a good feature for the recommender system.\n",
    "\n",
    "However, the number of votes comes from a distribution with a very heavy right tail, that makes the feature hard to use for linear models (which our recommender system is). Thus, during the augmentation procedure we apply log scaling for the feature.\n",
    "\n",
    "This augmentation gives us 2 features for the film"
   ]
  },
  {
   "cell_type": "code",
   "execution_count": 36,
   "id": "10ca264a-dbe9-44aa-b9ec-f324d178e2e5",
   "metadata": {},
   "outputs": [],
   "source": [
    "augmented_movielens = augment_with_ratings(movielens)"
   ]
  },
  {
   "cell_type": "code",
   "execution_count": 37,
   "id": "ab1baef4-7e97-4270-9ee1-745322863610",
   "metadata": {},
   "outputs": [
    {
     "data": {
      "text/plain": [
       "<AxesSubplot:title={'center':'Logarithm of Num votes distribution'}, ylabel='Frequency'>"
      ]
     },
     "execution_count": 37,
     "metadata": {},
     "output_type": "execute_result"
    },
    {
     "data": {
      "image/png": "[encoded data removed]",
      "text/plain": [
       "<Figure size 432x288 with 1 Axes>"
      ]
     },
     "metadata": {
      "needs_background": "light"
     },
     "output_type": "display_data"
    }
   ],
   "source": [
    "augmented_movielens.logNumVotesMovie.plot.hist(title=\"Logarithm of Num votes distribution\")"
   ]
  },
  {
   "cell_type": "code",
   "execution_count": 38,
   "id": "c803d969-2930-4699-81dc-5dd343bd7b8b",
   "metadata": {},
   "outputs": [
    {
     "data": {
      "text/html": [
       "<div>\n",
       "<style scoped>\n",
       "    .dataframe tbody tr th:only-of-type {\n",
       "        vertical-align: middle;\n",
       "    }\n",
       "\n",
       "    .dataframe tbody tr th {\n",
       "        vertical-align: top;\n",
       "    }\n",
       "\n",
       "    .dataframe thead th {\n",
       "        text-align: right;\n",
       "    }\n",
       "</style>\n",
       "<table border=\"1\" class=\"dataframe\">\n",
       "  <thead>\n",
       "    <tr style=\"text-align: right;\">\n",
       "      <th></th>\n",
       "      <th>UserID</th>\n",
       "      <th>MovieID</th>\n",
       "      <th>Rating</th>\n",
       "      <th>Timestamp</th>\n",
       "      <th>Title</th>\n",
       "      <th>Genres</th>\n",
       "      <th>Gender</th>\n",
       "      <th>Age</th>\n",
       "      <th>Occupation</th>\n",
       "      <th>ZipCode</th>\n",
       "      <th>averageRatingMovie</th>\n",
       "      <th>logNumVotesMovie</th>\n",
       "    </tr>\n",
       "  </thead>\n",
       "  <tbody>\n",
       "    <tr>\n",
       "      <th>0</th>\n",
       "      <td>1</td>\n",
       "      <td>1193</td>\n",
       "      <td>5</td>\n",
       "      <td>978300760</td>\n",
       "      <td>One Flew Over the Cuckoo's Nest (1975)</td>\n",
       "      <td>Drama</td>\n",
       "      <td>F</td>\n",
       "      <td>1</td>\n",
       "      <td>10</td>\n",
       "      <td>48067</td>\n",
       "      <td>8.7</td>\n",
       "      <td>13.797795</td>\n",
       "    </tr>\n",
       "    <tr>\n",
       "      <th>1</th>\n",
       "      <td>1</td>\n",
       "      <td>661</td>\n",
       "      <td>3</td>\n",
       "      <td>978302109</td>\n",
       "      <td>James and the Giant Peach (1996)</td>\n",
       "      <td>Animation|Children's|Musical</td>\n",
       "      <td>F</td>\n",
       "      <td>1</td>\n",
       "      <td>10</td>\n",
       "      <td>48067</td>\n",
       "      <td>6.7</td>\n",
       "      <td>11.096652</td>\n",
       "    </tr>\n",
       "    <tr>\n",
       "      <th>2</th>\n",
       "      <td>1</td>\n",
       "      <td>914</td>\n",
       "      <td>3</td>\n",
       "      <td>978301968</td>\n",
       "      <td>My Fair Lady (1964)</td>\n",
       "      <td>Musical|Romance</td>\n",
       "      <td>F</td>\n",
       "      <td>1</td>\n",
       "      <td>10</td>\n",
       "      <td>48067</td>\n",
       "      <td>7.8</td>\n",
       "      <td>11.452783</td>\n",
       "    </tr>\n",
       "    <tr>\n",
       "      <th>3</th>\n",
       "      <td>1</td>\n",
       "      <td>3408</td>\n",
       "      <td>4</td>\n",
       "      <td>978300275</td>\n",
       "      <td>Erin Brockovich (2000)</td>\n",
       "      <td>Drama</td>\n",
       "      <td>F</td>\n",
       "      <td>1</td>\n",
       "      <td>10</td>\n",
       "      <td>48067</td>\n",
       "      <td>7.4</td>\n",
       "      <td>12.173456</td>\n",
       "    </tr>\n",
       "    <tr>\n",
       "      <th>4</th>\n",
       "      <td>1</td>\n",
       "      <td>2355</td>\n",
       "      <td>5</td>\n",
       "      <td>978824291</td>\n",
       "      <td>Bug's Life, A (1998)</td>\n",
       "      <td>Animation|Children's|Comedy</td>\n",
       "      <td>F</td>\n",
       "      <td>1</td>\n",
       "      <td>10</td>\n",
       "      <td>48067</td>\n",
       "      <td>7.2</td>\n",
       "      <td>12.564953</td>\n",
       "    </tr>\n",
       "  </tbody>\n",
       "</table>\n",
       "</div>"
      ],
      "text/plain": [
       "   UserID  MovieID  Rating  Timestamp                                   Title  \\\n",
       "0       1     1193       5  978300760  One Flew Over the Cuckoo's Nest (1975)   \n",
       "1       1      661       3  978302109        James and the Giant Peach (1996)   \n",
       "2       1      914       3  978301968                     My Fair Lady (1964)   \n",
       "3       1     3408       4  978300275                  Erin Brockovich (2000)   \n",
       "4       1     2355       5  978824291                    Bug's Life, A (1998)   \n",
       "\n",
       "                         Genres Gender  Age  Occupation ZipCode  \\\n",
       "0                         Drama      F    1          10   48067   \n",
       "1  Animation|Children's|Musical      F    1          10   48067   \n",
       "2               Musical|Romance      F    1          10   48067   \n",
       "3                         Drama      F    1          10   48067   \n",
       "4   Animation|Children's|Comedy      F    1          10   48067   \n",
       "\n",
       "   averageRatingMovie  logNumVotesMovie  \n",
       "0                 8.7         13.797795  \n",
       "1                 6.7         11.096652  \n",
       "2                 7.8         11.452783  \n",
       "3                 7.4         12.173456  \n",
       "4                 7.2         12.564953  "
      ]
     },
     "execution_count": 38,
     "metadata": {},
     "output_type": "execute_result"
    }
   ],
   "source": [
    "augmented_movielens.head()"
   ]
  },
  {
   "cell_type": "markdown",
   "id": "71231139-5120-4768-915a-95af7b07fdf6",
   "metadata": {},
   "source": [
    "#### Top directors"
   ]
  },
  {
   "cell_type": "markdown",
   "id": "40afa603-add5-4192-b59c-b312f7f26577",
   "metadata": {},
   "source": [
    "We add a feature stating whether top director is involved in a particular film."
   ]
  },
  {
   "cell_type": "code",
   "execution_count": 39,
   "id": "e14f4865-c0a2-4326-8e26-0cc4e7224d3f",
   "metadata": {},
   "outputs": [],
   "source": [
    "augmented_movielens = add_top_directors(augmented_movielens)"
   ]
  },
  {
   "cell_type": "code",
   "execution_count": 40,
   "id": "a5361aab-6b5e-42c5-b9eb-2da898ef131e",
   "metadata": {},
   "outputs": [
    {
     "data": {
      "text/html": [
       "<div>\n",
       "<style scoped>\n",
       "    .dataframe tbody tr th:only-of-type {\n",
       "        vertical-align: middle;\n",
       "    }\n",
       "\n",
       "    .dataframe tbody tr th {\n",
       "        vertical-align: top;\n",
       "    }\n",
       "\n",
       "    .dataframe thead th {\n",
       "        text-align: right;\n",
       "    }\n",
       "</style>\n",
       "<table border=\"1\" class=\"dataframe\">\n",
       "  <thead>\n",
       "    <tr style=\"text-align: right;\">\n",
       "      <th></th>\n",
       "      <th>UserID</th>\n",
       "      <th>MovieID</th>\n",
       "      <th>Rating</th>\n",
       "      <th>Timestamp</th>\n",
       "      <th>Title</th>\n",
       "      <th>Genres</th>\n",
       "      <th>Gender</th>\n",
       "      <th>Age</th>\n",
       "      <th>Occupation</th>\n",
       "      <th>ZipCode</th>\n",
       "      <th>averageRatingMovie</th>\n",
       "      <th>logNumVotesMovie</th>\n",
       "      <th>topDirectorMovie</th>\n",
       "    </tr>\n",
       "  </thead>\n",
       "  <tbody>\n",
       "    <tr>\n",
       "      <th>0</th>\n",
       "      <td>1</td>\n",
       "      <td>1193</td>\n",
       "      <td>5</td>\n",
       "      <td>978300760</td>\n",
       "      <td>One Flew Over the Cuckoo's Nest (1975)</td>\n",
       "      <td>Drama</td>\n",
       "      <td>F</td>\n",
       "      <td>1</td>\n",
       "      <td>10</td>\n",
       "      <td>48067</td>\n",
       "      <td>8.7</td>\n",
       "      <td>13.797795</td>\n",
       "      <td>0</td>\n",
       "    </tr>\n",
       "    <tr>\n",
       "      <th>1</th>\n",
       "      <td>1</td>\n",
       "      <td>661</td>\n",
       "      <td>3</td>\n",
       "      <td>978302109</td>\n",
       "      <td>James and the Giant Peach (1996)</td>\n",
       "      <td>Animation|Children's|Musical</td>\n",
       "      <td>F</td>\n",
       "      <td>1</td>\n",
       "      <td>10</td>\n",
       "      <td>48067</td>\n",
       "      <td>6.7</td>\n",
       "      <td>11.096652</td>\n",
       "      <td>0</td>\n",
       "    </tr>\n",
       "    <tr>\n",
       "      <th>2</th>\n",
       "      <td>1</td>\n",
       "      <td>914</td>\n",
       "      <td>3</td>\n",
       "      <td>978301968</td>\n",
       "      <td>My Fair Lady (1964)</td>\n",
       "      <td>Musical|Romance</td>\n",
       "      <td>F</td>\n",
       "      <td>1</td>\n",
       "      <td>10</td>\n",
       "      <td>48067</td>\n",
       "      <td>7.8</td>\n",
       "      <td>11.452783</td>\n",
       "      <td>0</td>\n",
       "    </tr>\n",
       "    <tr>\n",
       "      <th>3</th>\n",
       "      <td>1</td>\n",
       "      <td>3408</td>\n",
       "      <td>4</td>\n",
       "      <td>978300275</td>\n",
       "      <td>Erin Brockovich (2000)</td>\n",
       "      <td>Drama</td>\n",
       "      <td>F</td>\n",
       "      <td>1</td>\n",
       "      <td>10</td>\n",
       "      <td>48067</td>\n",
       "      <td>7.4</td>\n",
       "      <td>12.173456</td>\n",
       "      <td>0</td>\n",
       "    </tr>\n",
       "    <tr>\n",
       "      <th>4</th>\n",
       "      <td>1</td>\n",
       "      <td>2355</td>\n",
       "      <td>5</td>\n",
       "      <td>978824291</td>\n",
       "      <td>Bug's Life, A (1998)</td>\n",
       "      <td>Animation|Children's|Comedy</td>\n",
       "      <td>F</td>\n",
       "      <td>1</td>\n",
       "      <td>10</td>\n",
       "      <td>48067</td>\n",
       "      <td>7.2</td>\n",
       "      <td>12.564953</td>\n",
       "      <td>0</td>\n",
       "    </tr>\n",
       "  </tbody>\n",
       "</table>\n",
       "</div>"
      ],
      "text/plain": [
       "   UserID  MovieID  Rating  Timestamp                                   Title  \\\n",
       "0       1     1193       5  978300760  One Flew Over the Cuckoo's Nest (1975)   \n",
       "1       1      661       3  978302109        James and the Giant Peach (1996)   \n",
       "2       1      914       3  978301968                     My Fair Lady (1964)   \n",
       "3       1     3408       4  978300275                  Erin Brockovich (2000)   \n",
       "4       1     2355       5  978824291                    Bug's Life, A (1998)   \n",
       "\n",
       "                         Genres Gender  Age  Occupation ZipCode  \\\n",
       "0                         Drama      F    1          10   48067   \n",
       "1  Animation|Children's|Musical      F    1          10   48067   \n",
       "2               Musical|Romance      F    1          10   48067   \n",
       "3                         Drama      F    1          10   48067   \n",
       "4   Animation|Children's|Comedy      F    1          10   48067   \n",
       "\n",
       "   averageRatingMovie  logNumVotesMovie  topDirectorMovie  \n",
       "0                 8.7         13.797795                 0  \n",
       "1                 6.7         11.096652                 0  \n",
       "2                 7.8         11.452783                 0  \n",
       "3                 7.4         12.173456                 0  \n",
       "4                 7.2         12.564953                 0  "
      ]
     },
     "execution_count": 40,
     "metadata": {},
     "output_type": "execute_result"
    }
   ],
   "source": [
    "augmented_movielens.head()"
   ]
  },
  {
   "cell_type": "markdown",
   "id": "1fc52170-5bcd-4152-8b07-a8a1c466a133",
   "metadata": {},
   "source": [
    "## Format data"
   ]
  },
  {
   "cell_type": "markdown",
   "id": "251d39d0-829a-431d-afdd-39c619f83f54",
   "metadata": {},
   "source": [
    "#### Movies' genres"
   ]
  },
  {
   "cell_type": "markdown",
   "id": "a9ae5389-adaa-42b4-923f-6490fa1419fa",
   "metadata": {},
   "source": [
    "We further augment the dataset with the movie genre. One movie may have several genres, and the genre is a categorial value, so we make a bitmask for each film, which has 1 if the movie belongs to the corresponding genre.\n",
    "\n",
    "The augmentation gives us 18 features for the film."
   ]
  },
  {
   "cell_type": "code",
   "execution_count": 41,
   "id": "9c710dfe-d0a9-420f-94f0-5675a07bcc1c",
   "metadata": {},
   "outputs": [],
   "source": [
    "augmented_movielens = encode_bitmask_genres(augmented_movielens)"
   ]
  },
  {
   "cell_type": "code",
   "execution_count": 42,
   "id": "a704ac55-4003-476f-be86-c9ff508ff3d8",
   "metadata": {},
   "outputs": [
    {
     "data": {
      "text/plain": [
       "<AxesSubplot:title={'center':'Genre feature distribution'}>"
      ]
     },
     "execution_count": 42,
     "metadata": {},
     "output_type": "execute_result"
    },
    {
     "data": {
      "image/png": "[encoded data removed]",
      "text/plain": [
       "<Figure size 432x288 with 1 Axes>"
      ]
     },
     "metadata": {
      "needs_background": "light"
     },
     "output_type": "display_data"
    }
   ],
   "source": [
    "augmented_movielens.loc[:, \"isFilm-NoirMovie\":].sum(axis=0).plot.barh(title=\"Genre feature distribution\")"
   ]
  },
  {
   "cell_type": "code",
   "execution_count": 43,
   "id": "848ce3b7-b5d2-433f-8ead-14bdc0eb947a",
   "metadata": {},
   "outputs": [
    {
     "data": {
      "text/html": [
       "<div>\n",
       "<style scoped>\n",
       "    .dataframe tbody tr th:only-of-type {\n",
       "        vertical-align: middle;\n",
       "    }\n",
       "\n",
       "    .dataframe tbody tr th {\n",
       "        vertical-align: top;\n",
       "    }\n",
       "\n",
       "    .dataframe thead th {\n",
       "        text-align: right;\n",
       "    }\n",
       "</style>\n",
       "<table border=\"1\" class=\"dataframe\">\n",
       "  <thead>\n",
       "    <tr style=\"text-align: right;\">\n",
       "      <th></th>\n",
       "      <th>UserID</th>\n",
       "      <th>MovieID</th>\n",
       "      <th>Rating</th>\n",
       "      <th>Timestamp</th>\n",
       "      <th>Title</th>\n",
       "      <th>Gender</th>\n",
       "      <th>Age</th>\n",
       "      <th>Occupation</th>\n",
       "      <th>ZipCode</th>\n",
       "      <th>averageRatingMovie</th>\n",
       "      <th>...</th>\n",
       "      <th>isActionMovie</th>\n",
       "      <th>isMysteryMovie</th>\n",
       "      <th>isDramaMovie</th>\n",
       "      <th>isFilm-NoirMovie</th>\n",
       "      <th>isRomanceMovie</th>\n",
       "      <th>isWesternMovie</th>\n",
       "      <th>isAnimationMovie</th>\n",
       "      <th>isChildren'sMovie</th>\n",
       "      <th>isThrillerMovie</th>\n",
       "      <th>isCrimeMovie</th>\n",
       "    </tr>\n",
       "  </thead>\n",
       "  <tbody>\n",
       "    <tr>\n",
       "      <th>0</th>\n",
       "      <td>1</td>\n",
       "      <td>1193</td>\n",
       "      <td>5</td>\n",
       "      <td>978300760</td>\n",
       "      <td>One Flew Over the Cuckoo's Nest (1975)</td>\n",
       "      <td>F</td>\n",
       "      <td>1</td>\n",
       "      <td>10</td>\n",
       "      <td>48067</td>\n",
       "      <td>8.7</td>\n",
       "      <td>...</td>\n",
       "      <td>False</td>\n",
       "      <td>False</td>\n",
       "      <td>True</td>\n",
       "      <td>False</td>\n",
       "      <td>False</td>\n",
       "      <td>False</td>\n",
       "      <td>False</td>\n",
       "      <td>False</td>\n",
       "      <td>False</td>\n",
       "      <td>False</td>\n",
       "    </tr>\n",
       "    <tr>\n",
       "      <th>1</th>\n",
       "      <td>1</td>\n",
       "      <td>661</td>\n",
       "      <td>3</td>\n",
       "      <td>978302109</td>\n",
       "      <td>James and the Giant Peach (1996)</td>\n",
       "      <td>F</td>\n",
       "      <td>1</td>\n",
       "      <td>10</td>\n",
       "      <td>48067</td>\n",
       "      <td>6.7</td>\n",
       "      <td>...</td>\n",
       "      <td>False</td>\n",
       "      <td>False</td>\n",
       "      <td>False</td>\n",
       "      <td>False</td>\n",
       "      <td>False</td>\n",
       "      <td>False</td>\n",
       "      <td>True</td>\n",
       "      <td>True</td>\n",
       "      <td>False</td>\n",
       "      <td>False</td>\n",
       "    </tr>\n",
       "    <tr>\n",
       "      <th>2</th>\n",
       "      <td>1</td>\n",
       "      <td>914</td>\n",
       "      <td>3</td>\n",
       "      <td>978301968</td>\n",
       "      <td>My Fair Lady (1964)</td>\n",
       "      <td>F</td>\n",
       "      <td>1</td>\n",
       "      <td>10</td>\n",
       "      <td>48067</td>\n",
       "      <td>7.8</td>\n",
       "      <td>...</td>\n",
       "      <td>False</td>\n",
       "      <td>False</td>\n",
       "      <td>False</td>\n",
       "      <td>False</td>\n",
       "      <td>True</td>\n",
       "      <td>False</td>\n",
       "      <td>False</td>\n",
       "      <td>False</td>\n",
       "      <td>False</td>\n",
       "      <td>False</td>\n",
       "    </tr>\n",
       "    <tr>\n",
       "      <th>3</th>\n",
       "      <td>1</td>\n",
       "      <td>3408</td>\n",
       "      <td>4</td>\n",
       "      <td>978300275</td>\n",
       "      <td>Erin Brockovich (2000)</td>\n",
       "      <td>F</td>\n",
       "      <td>1</td>\n",
       "      <td>10</td>\n",
       "      <td>48067</td>\n",
       "      <td>7.4</td>\n",
       "      <td>...</td>\n",
       "      <td>False</td>\n",
       "      <td>False</td>\n",
       "      <td>True</td>\n",
       "      <td>False</td>\n",
       "      <td>False</td>\n",
       "      <td>False</td>\n",
       "      <td>False</td>\n",
       "      <td>False</td>\n",
       "      <td>False</td>\n",
       "      <td>False</td>\n",
       "    </tr>\n",
       "    <tr>\n",
       "      <th>4</th>\n",
       "      <td>1</td>\n",
       "      <td>2355</td>\n",
       "      <td>5</td>\n",
       "      <td>978824291</td>\n",
       "      <td>Bug's Life, A (1998)</td>\n",
       "      <td>F</td>\n",
       "      <td>1</td>\n",
       "      <td>10</td>\n",
       "      <td>48067</td>\n",
       "      <td>7.2</td>\n",
       "      <td>...</td>\n",
       "      <td>False</td>\n",
       "      <td>False</td>\n",
       "      <td>False</td>\n",
       "      <td>False</td>\n",
       "      <td>False</td>\n",
       "      <td>False</td>\n",
       "      <td>True</td>\n",
       "      <td>True</td>\n",
       "      <td>False</td>\n",
       "      <td>False</td>\n",
       "    </tr>\n",
       "  </tbody>\n",
       "</table>\n",
       "<p>5 rows × 30 columns</p>\n",
       "</div>"
      ],
      "text/plain": [
       "   UserID  MovieID  Rating  Timestamp                                   Title  \\\n",
       "0       1     1193       5  978300760  One Flew Over the Cuckoo's Nest (1975)   \n",
       "1       1      661       3  978302109        James and the Giant Peach (1996)   \n",
       "2       1      914       3  978301968                     My Fair Lady (1964)   \n",
       "3       1     3408       4  978300275                  Erin Brockovich (2000)   \n",
       "4       1     2355       5  978824291                    Bug's Life, A (1998)   \n",
       "\n",
       "  Gender  Age  Occupation ZipCode  averageRatingMovie  ...  isActionMovie  \\\n",
       "0      F    1          10   48067                 8.7  ...          False   \n",
       "1      F    1          10   48067                 6.7  ...          False   \n",
       "2      F    1          10   48067                 7.8  ...          False   \n",
       "3      F    1          10   48067                 7.4  ...          False   \n",
       "4      F    1          10   48067                 7.2  ...          False   \n",
       "\n",
       "   isMysteryMovie  isDramaMovie  isFilm-NoirMovie  isRomanceMovie  \\\n",
       "0           False          True             False           False   \n",
       "1           False         False             False           False   \n",
       "2           False         False             False            True   \n",
       "3           False          True             False           False   \n",
       "4           False         False             False           False   \n",
       "\n",
       "   isWesternMovie  isAnimationMovie  isChildren'sMovie  isThrillerMovie  \\\n",
       "0           False             False              False            False   \n",
       "1           False              True               True            False   \n",
       "2           False             False              False            False   \n",
       "3           False             False              False            False   \n",
       "4           False              True               True            False   \n",
       "\n",
       "   isCrimeMovie  \n",
       "0         False  \n",
       "1         False  \n",
       "2         False  \n",
       "3         False  \n",
       "4         False  \n",
       "\n",
       "[5 rows x 30 columns]"
      ]
     },
     "execution_count": 43,
     "metadata": {},
     "output_type": "execute_result"
    }
   ],
   "source": [
    "augmented_movielens.head()"
   ]
  },
  {
   "cell_type": "markdown",
   "id": "6ae0aedf-03dd-42f1-9ebe-fb8b366327bb",
   "metadata": {},
   "source": [
    "#### User ages"
   ]
  },
  {
   "cell_type": "markdown",
   "id": "2f973232-eb06-47a8-98dd-641fa6caa776",
   "metadata": {},
   "source": [
    "Further we go to the user features. First, we encode the age. For some reason, the movielens dataset has only a few unique values for the ages, so we assume they were splitted to several bins. This decision is quite useful for our system, as the dependency between the user age and their preferences is not really linear, so we again just make a bitmask, encoding the user age. For this feature, one user may have only one age value, so it basically becomes one-hot encoding (OHE).\n",
    "\n",
    "We also add the log value of the user age (just in case :O, there is no such a notion of \"too much features\").\n",
    "\n",
    "This augmentation gives us 8 features."
   ]
  },
  {
   "cell_type": "code",
   "execution_count": 44,
   "id": "df72dd15-aaca-40f9-96e7-38f808504b6a",
   "metadata": {},
   "outputs": [],
   "source": [
    "augmented_movielens = encode_ohe_age(augmented_movielens)"
   ]
  },
  {
   "cell_type": "code",
   "execution_count": 45,
   "id": "dba54435-52c8-4f99-a829-b9f9dd233ba5",
   "metadata": {},
   "outputs": [
    {
     "data": {
      "text/plain": [
       "<AxesSubplot:title={'center':'Age feature distribution'}>"
      ]
     },
     "execution_count": 45,
     "metadata": {},
     "output_type": "execute_result"
    },
    {
     "data": {
      "image/png": "[encoded data removed]",
      "text/plain": [
       "<Figure size 432x288 with 1 Axes>"
      ]
     },
     "metadata": {
      "needs_background": "light"
     },
     "output_type": "display_data"
    }
   ],
   "source": [
    "augmented_movielens.iloc[:, -7:].sum(axis=0).plot.barh(title=\"Age feature distribution\")"
   ]
  },
  {
   "cell_type": "code",
   "execution_count": 46,
   "id": "c44cca26-54ed-411b-84cd-a79c833d6534",
   "metadata": {},
   "outputs": [
    {
     "data": {
      "text/html": [
       "<div>\n",
       "<style scoped>\n",
       "    .dataframe tbody tr th:only-of-type {\n",
       "        vertical-align: middle;\n",
       "    }\n",
       "\n",
       "    .dataframe tbody tr th {\n",
       "        vertical-align: top;\n",
       "    }\n",
       "\n",
       "    .dataframe thead th {\n",
       "        text-align: right;\n",
       "    }\n",
       "</style>\n",
       "<table border=\"1\" class=\"dataframe\">\n",
       "  <thead>\n",
       "    <tr style=\"text-align: right;\">\n",
       "      <th></th>\n",
       "      <th>UserID</th>\n",
       "      <th>MovieID</th>\n",
       "      <th>Rating</th>\n",
       "      <th>Timestamp</th>\n",
       "      <th>Title</th>\n",
       "      <th>Gender</th>\n",
       "      <th>Occupation</th>\n",
       "      <th>ZipCode</th>\n",
       "      <th>averageRatingMovie</th>\n",
       "      <th>logNumVotesMovie</th>\n",
       "      <th>...</th>\n",
       "      <th>isThrillerMovie</th>\n",
       "      <th>isCrimeMovie</th>\n",
       "      <th>logAgeUser</th>\n",
       "      <th>isAge1User</th>\n",
       "      <th>isAge56User</th>\n",
       "      <th>isAge25User</th>\n",
       "      <th>isAge45User</th>\n",
       "      <th>isAge50User</th>\n",
       "      <th>isAge35User</th>\n",
       "      <th>isAge18User</th>\n",
       "    </tr>\n",
       "  </thead>\n",
       "  <tbody>\n",
       "    <tr>\n",
       "      <th>0</th>\n",
       "      <td>1</td>\n",
       "      <td>1193</td>\n",
       "      <td>5</td>\n",
       "      <td>978300760</td>\n",
       "      <td>One Flew Over the Cuckoo's Nest (1975)</td>\n",
       "      <td>F</td>\n",
       "      <td>10</td>\n",
       "      <td>48067</td>\n",
       "      <td>8.7</td>\n",
       "      <td>13.797795</td>\n",
       "      <td>...</td>\n",
       "      <td>False</td>\n",
       "      <td>False</td>\n",
       "      <td>0.0</td>\n",
       "      <td>True</td>\n",
       "      <td>False</td>\n",
       "      <td>False</td>\n",
       "      <td>False</td>\n",
       "      <td>False</td>\n",
       "      <td>False</td>\n",
       "      <td>False</td>\n",
       "    </tr>\n",
       "    <tr>\n",
       "      <th>1</th>\n",
       "      <td>1</td>\n",
       "      <td>661</td>\n",
       "      <td>3</td>\n",
       "      <td>978302109</td>\n",
       "      <td>James and the Giant Peach (1996)</td>\n",
       "      <td>F</td>\n",
       "      <td>10</td>\n",
       "      <td>48067</td>\n",
       "      <td>6.7</td>\n",
       "      <td>11.096652</td>\n",
       "      <td>...</td>\n",
       "      <td>False</td>\n",
       "      <td>False</td>\n",
       "      <td>0.0</td>\n",
       "      <td>True</td>\n",
       "      <td>False</td>\n",
       "      <td>False</td>\n",
       "      <td>False</td>\n",
       "      <td>False</td>\n",
       "      <td>False</td>\n",
       "      <td>False</td>\n",
       "    </tr>\n",
       "    <tr>\n",
       "      <th>2</th>\n",
       "      <td>1</td>\n",
       "      <td>914</td>\n",
       "      <td>3</td>\n",
       "      <td>978301968</td>\n",
       "      <td>My Fair Lady (1964)</td>\n",
       "      <td>F</td>\n",
       "      <td>10</td>\n",
       "      <td>48067</td>\n",
       "      <td>7.8</td>\n",
       "      <td>11.452783</td>\n",
       "      <td>...</td>\n",
       "      <td>False</td>\n",
       "      <td>False</td>\n",
       "      <td>0.0</td>\n",
       "      <td>True</td>\n",
       "      <td>False</td>\n",
       "      <td>False</td>\n",
       "      <td>False</td>\n",
       "      <td>False</td>\n",
       "      <td>False</td>\n",
       "      <td>False</td>\n",
       "    </tr>\n",
       "    <tr>\n",
       "      <th>3</th>\n",
       "      <td>1</td>\n",
       "      <td>3408</td>\n",
       "      <td>4</td>\n",
       "      <td>978300275</td>\n",
       "      <td>Erin Brockovich (2000)</td>\n",
       "      <td>F</td>\n",
       "      <td>10</td>\n",
       "      <td>48067</td>\n",
       "      <td>7.4</td>\n",
       "      <td>12.173456</td>\n",
       "      <td>...</td>\n",
       "      <td>False</td>\n",
       "      <td>False</td>\n",
       "      <td>0.0</td>\n",
       "      <td>True</td>\n",
       "      <td>False</td>\n",
       "      <td>False</td>\n",
       "      <td>False</td>\n",
       "      <td>False</td>\n",
       "      <td>False</td>\n",
       "      <td>False</td>\n",
       "    </tr>\n",
       "    <tr>\n",
       "      <th>4</th>\n",
       "      <td>1</td>\n",
       "      <td>2355</td>\n",
       "      <td>5</td>\n",
       "      <td>978824291</td>\n",
       "      <td>Bug's Life, A (1998)</td>\n",
       "      <td>F</td>\n",
       "      <td>10</td>\n",
       "      <td>48067</td>\n",
       "      <td>7.2</td>\n",
       "      <td>12.564953</td>\n",
       "      <td>...</td>\n",
       "      <td>False</td>\n",
       "      <td>False</td>\n",
       "      <td>0.0</td>\n",
       "      <td>True</td>\n",
       "      <td>False</td>\n",
       "      <td>False</td>\n",
       "      <td>False</td>\n",
       "      <td>False</td>\n",
       "      <td>False</td>\n",
       "      <td>False</td>\n",
       "    </tr>\n",
       "  </tbody>\n",
       "</table>\n",
       "<p>5 rows × 37 columns</p>\n",
       "</div>"
      ],
      "text/plain": [
       "   UserID  MovieID  Rating  Timestamp                                   Title  \\\n",
       "0       1     1193       5  978300760  One Flew Over the Cuckoo's Nest (1975)   \n",
       "1       1      661       3  978302109        James and the Giant Peach (1996)   \n",
       "2       1      914       3  978301968                     My Fair Lady (1964)   \n",
       "3       1     3408       4  978300275                  Erin Brockovich (2000)   \n",
       "4       1     2355       5  978824291                    Bug's Life, A (1998)   \n",
       "\n",
       "  Gender  Occupation ZipCode  averageRatingMovie  logNumVotesMovie  ...  \\\n",
       "0      F          10   48067                 8.7         13.797795  ...   \n",
       "1      F          10   48067                 6.7         11.096652  ...   \n",
       "2      F          10   48067                 7.8         11.452783  ...   \n",
       "3      F          10   48067                 7.4         12.173456  ...   \n",
       "4      F          10   48067                 7.2         12.564953  ...   \n",
       "\n",
       "   isThrillerMovie  isCrimeMovie  logAgeUser  isAge1User  isAge56User  \\\n",
       "0            False         False         0.0        True        False   \n",
       "1            False         False         0.0        True        False   \n",
       "2            False         False         0.0        True        False   \n",
       "3            False         False         0.0        True        False   \n",
       "4            False         False         0.0        True        False   \n",
       "\n",
       "   isAge25User  isAge45User  isAge50User  isAge35User  isAge18User  \n",
       "0        False        False        False        False        False  \n",
       "1        False        False        False        False        False  \n",
       "2        False        False        False        False        False  \n",
       "3        False        False        False        False        False  \n",
       "4        False        False        False        False        False  \n",
       "\n",
       "[5 rows x 37 columns]"
      ]
     },
     "execution_count": 46,
     "metadata": {},
     "output_type": "execute_result"
    }
   ],
   "source": [
    "augmented_movielens.head()"
   ]
  },
  {
   "cell_type": "markdown",
   "id": "00c7f153-59d3-4443-bfc4-02ad4e0d8a30",
   "metadata": {},
   "source": [
    "#### Users' occupation"
   ]
  },
  {
   "cell_type": "markdown",
   "id": "ae9c8d69-a405-426a-b43f-b85b24c328e7",
   "metadata": {},
   "source": [
    "Next, we encode the occupation of users. Again, a bitmask which is basically OHE."
   ]
  },
  {
   "cell_type": "code",
   "execution_count": 47,
   "id": "81d73a70-46fe-41f8-95a7-369d331e897b",
   "metadata": {},
   "outputs": [],
   "source": [
    "augmented_movielens = encode_ohe_occupation(augmented_movielens)"
   ]
  },
  {
   "cell_type": "code",
   "execution_count": 48,
   "id": "27389d4d-358d-479c-ac8b-ccf60da1fafa",
   "metadata": {},
   "outputs": [
    {
     "data": {
      "text/plain": [
       "<AxesSubplot:title={'center':'Users occupation statistics'}>"
      ]
     },
     "execution_count": 48,
     "metadata": {},
     "output_type": "execute_result"
    },
    {
     "data": {
      "image/png": "[encoded data removed]",
      "text/plain": [
       "<Figure size 432x288 with 1 Axes>"
      ]
     },
     "metadata": {
      "needs_background": "light"
     },
     "output_type": "display_data"
    }
   ],
   "source": [
    "augmented_movielens.loc[:, \"isOccupation10User\":].sum(axis=0).plot.barh(title=\"Users occupation statistics\")"
   ]
  },
  {
   "cell_type": "code",
   "execution_count": 49,
   "id": "52b1cdbb-5808-48fb-8b0e-e191ebc13537",
   "metadata": {},
   "outputs": [
    {
     "data": {
      "text/html": [
       "<div>\n",
       "<style scoped>\n",
       "    .dataframe tbody tr th:only-of-type {\n",
       "        vertical-align: middle;\n",
       "    }\n",
       "\n",
       "    .dataframe tbody tr th {\n",
       "        vertical-align: top;\n",
       "    }\n",
       "\n",
       "    .dataframe thead th {\n",
       "        text-align: right;\n",
       "    }\n",
       "</style>\n",
       "<table border=\"1\" class=\"dataframe\">\n",
       "  <thead>\n",
       "    <tr style=\"text-align: right;\">\n",
       "      <th></th>\n",
       "      <th>UserID</th>\n",
       "      <th>MovieID</th>\n",
       "      <th>Rating</th>\n",
       "      <th>Timestamp</th>\n",
       "      <th>Title</th>\n",
       "      <th>Gender</th>\n",
       "      <th>ZipCode</th>\n",
       "      <th>averageRatingMovie</th>\n",
       "      <th>logNumVotesMovie</th>\n",
       "      <th>topDirectorMovie</th>\n",
       "      <th>...</th>\n",
       "      <th>isOccupation14User</th>\n",
       "      <th>isOccupation4User</th>\n",
       "      <th>isOccupation11User</th>\n",
       "      <th>isOccupation8User</th>\n",
       "      <th>isOccupation19User</th>\n",
       "      <th>isOccupation2User</th>\n",
       "      <th>isOccupation18User</th>\n",
       "      <th>isOccupation5User</th>\n",
       "      <th>isOccupation13User</th>\n",
       "      <th>isOccupation6User</th>\n",
       "    </tr>\n",
       "  </thead>\n",
       "  <tbody>\n",
       "    <tr>\n",
       "      <th>0</th>\n",
       "      <td>1</td>\n",
       "      <td>1193</td>\n",
       "      <td>5</td>\n",
       "      <td>978300760</td>\n",
       "      <td>One Flew Over the Cuckoo's Nest (1975)</td>\n",
       "      <td>F</td>\n",
       "      <td>48067</td>\n",
       "      <td>8.7</td>\n",
       "      <td>13.797795</td>\n",
       "      <td>0</td>\n",
       "      <td>...</td>\n",
       "      <td>False</td>\n",
       "      <td>False</td>\n",
       "      <td>False</td>\n",
       "      <td>False</td>\n",
       "      <td>False</td>\n",
       "      <td>False</td>\n",
       "      <td>False</td>\n",
       "      <td>False</td>\n",
       "      <td>False</td>\n",
       "      <td>False</td>\n",
       "    </tr>\n",
       "    <tr>\n",
       "      <th>1</th>\n",
       "      <td>1</td>\n",
       "      <td>661</td>\n",
       "      <td>3</td>\n",
       "      <td>978302109</td>\n",
       "      <td>James and the Giant Peach (1996)</td>\n",
       "      <td>F</td>\n",
       "      <td>48067</td>\n",
       "      <td>6.7</td>\n",
       "      <td>11.096652</td>\n",
       "      <td>0</td>\n",
       "      <td>...</td>\n",
       "      <td>False</td>\n",
       "      <td>False</td>\n",
       "      <td>False</td>\n",
       "      <td>False</td>\n",
       "      <td>False</td>\n",
       "      <td>False</td>\n",
       "      <td>False</td>\n",
       "      <td>False</td>\n",
       "      <td>False</td>\n",
       "      <td>False</td>\n",
       "    </tr>\n",
       "    <tr>\n",
       "      <th>2</th>\n",
       "      <td>1</td>\n",
       "      <td>914</td>\n",
       "      <td>3</td>\n",
       "      <td>978301968</td>\n",
       "      <td>My Fair Lady (1964)</td>\n",
       "      <td>F</td>\n",
       "      <td>48067</td>\n",
       "      <td>7.8</td>\n",
       "      <td>11.452783</td>\n",
       "      <td>0</td>\n",
       "      <td>...</td>\n",
       "      <td>False</td>\n",
       "      <td>False</td>\n",
       "      <td>False</td>\n",
       "      <td>False</td>\n",
       "      <td>False</td>\n",
       "      <td>False</td>\n",
       "      <td>False</td>\n",
       "      <td>False</td>\n",
       "      <td>False</td>\n",
       "      <td>False</td>\n",
       "    </tr>\n",
       "    <tr>\n",
       "      <th>3</th>\n",
       "      <td>1</td>\n",
       "      <td>3408</td>\n",
       "      <td>4</td>\n",
       "      <td>978300275</td>\n",
       "      <td>Erin Brockovich (2000)</td>\n",
       "      <td>F</td>\n",
       "      <td>48067</td>\n",
       "      <td>7.4</td>\n",
       "      <td>12.173456</td>\n",
       "      <td>0</td>\n",
       "      <td>...</td>\n",
       "      <td>False</td>\n",
       "      <td>False</td>\n",
       "      <td>False</td>\n",
       "      <td>False</td>\n",
       "      <td>False</td>\n",
       "      <td>False</td>\n",
       "      <td>False</td>\n",
       "      <td>False</td>\n",
       "      <td>False</td>\n",
       "      <td>False</td>\n",
       "    </tr>\n",
       "    <tr>\n",
       "      <th>4</th>\n",
       "      <td>1</td>\n",
       "      <td>2355</td>\n",
       "      <td>5</td>\n",
       "      <td>978824291</td>\n",
       "      <td>Bug's Life, A (1998)</td>\n",
       "      <td>F</td>\n",
       "      <td>48067</td>\n",
       "      <td>7.2</td>\n",
       "      <td>12.564953</td>\n",
       "      <td>0</td>\n",
       "      <td>...</td>\n",
       "      <td>False</td>\n",
       "      <td>False</td>\n",
       "      <td>False</td>\n",
       "      <td>False</td>\n",
       "      <td>False</td>\n",
       "      <td>False</td>\n",
       "      <td>False</td>\n",
       "      <td>False</td>\n",
       "      <td>False</td>\n",
       "      <td>False</td>\n",
       "    </tr>\n",
       "  </tbody>\n",
       "</table>\n",
       "<p>5 rows × 57 columns</p>\n",
       "</div>"
      ],
      "text/plain": [
       "   UserID  MovieID  Rating  Timestamp                                   Title  \\\n",
       "0       1     1193       5  978300760  One Flew Over the Cuckoo's Nest (1975)   \n",
       "1       1      661       3  978302109        James and the Giant Peach (1996)   \n",
       "2       1      914       3  978301968                     My Fair Lady (1964)   \n",
       "3       1     3408       4  978300275                  Erin Brockovich (2000)   \n",
       "4       1     2355       5  978824291                    Bug's Life, A (1998)   \n",
       "\n",
       "  Gender ZipCode  averageRatingMovie  logNumVotesMovie  topDirectorMovie  ...  \\\n",
       "0      F   48067                 8.7         13.797795                 0  ...   \n",
       "1      F   48067                 6.7         11.096652                 0  ...   \n",
       "2      F   48067                 7.8         11.452783                 0  ...   \n",
       "3      F   48067                 7.4         12.173456                 0  ...   \n",
       "4      F   48067                 7.2         12.564953                 0  ...   \n",
       "\n",
       "   isOccupation14User  isOccupation4User  isOccupation11User  \\\n",
       "0               False              False               False   \n",
       "1               False              False               False   \n",
       "2               False              False               False   \n",
       "3               False              False               False   \n",
       "4               False              False               False   \n",
       "\n",
       "   isOccupation8User  isOccupation19User  isOccupation2User  \\\n",
       "0              False               False              False   \n",
       "1              False               False              False   \n",
       "2              False               False              False   \n",
       "3              False               False              False   \n",
       "4              False               False              False   \n",
       "\n",
       "   isOccupation18User  isOccupation5User  isOccupation13User  \\\n",
       "0               False              False               False   \n",
       "1               False              False               False   \n",
       "2               False              False               False   \n",
       "3               False              False               False   \n",
       "4               False              False               False   \n",
       "\n",
       "   isOccupation6User  \n",
       "0              False  \n",
       "1              False  \n",
       "2              False  \n",
       "3              False  \n",
       "4              False  \n",
       "\n",
       "[5 rows x 57 columns]"
      ]
     },
     "execution_count": 49,
     "metadata": {},
     "output_type": "execute_result"
    }
   ],
   "source": [
    "augmented_movielens.head()"
   ]
  },
  {
   "cell_type": "markdown",
   "id": "875440ba-eb8f-4251-864b-36d505254a61",
   "metadata": {},
   "source": [
    "#### Users' genders"
   ]
  },
  {
   "cell_type": "markdown",
   "id": "48cf34c5-4cf7-4973-b96a-743894055930",
   "metadata": {},
   "source": [
    "Finally, the gender. We were brave enough to binarize this value."
   ]
  },
  {
   "cell_type": "code",
   "execution_count": 50,
   "id": "c9d8ab56-b6e3-4c46-9ae1-b0c5a497e2db",
   "metadata": {},
   "outputs": [],
   "source": [
    "augmented_movielens = process_gender(augmented_movielens)"
   ]
  },
  {
   "cell_type": "code",
   "execution_count": 51,
   "id": "515e2cfb-49be-4a30-a859-3e3df931aa33",
   "metadata": {},
   "outputs": [
    {
     "name": "stdout",
     "output_type": "stream",
     "text": [
      "The 75.4 of the users self-identify as men\n"
     ]
    }
   ],
   "source": [
    "print(f\"The {round(100 * augmented_movielens.GenderUser.mean(), 1)} of the users self-identify as men\")"
   ]
  },
  {
   "cell_type": "code",
   "execution_count": 52,
   "id": "cd75b49d-485f-4e65-98b2-47a10d124a1e",
   "metadata": {},
   "outputs": [
    {
     "data": {
      "text/html": [
       "<div>\n",
       "<style scoped>\n",
       "    .dataframe tbody tr th:only-of-type {\n",
       "        vertical-align: middle;\n",
       "    }\n",
       "\n",
       "    .dataframe tbody tr th {\n",
       "        vertical-align: top;\n",
       "    }\n",
       "\n",
       "    .dataframe thead th {\n",
       "        text-align: right;\n",
       "    }\n",
       "</style>\n",
       "<table border=\"1\" class=\"dataframe\">\n",
       "  <thead>\n",
       "    <tr style=\"text-align: right;\">\n",
       "      <th></th>\n",
       "      <th>UserID</th>\n",
       "      <th>MovieID</th>\n",
       "      <th>Rating</th>\n",
       "      <th>Timestamp</th>\n",
       "      <th>Title</th>\n",
       "      <th>ZipCode</th>\n",
       "      <th>averageRatingMovie</th>\n",
       "      <th>logNumVotesMovie</th>\n",
       "      <th>topDirectorMovie</th>\n",
       "      <th>isComedyMovie</th>\n",
       "      <th>...</th>\n",
       "      <th>isOccupation4User</th>\n",
       "      <th>isOccupation11User</th>\n",
       "      <th>isOccupation8User</th>\n",
       "      <th>isOccupation19User</th>\n",
       "      <th>isOccupation2User</th>\n",
       "      <th>isOccupation18User</th>\n",
       "      <th>isOccupation5User</th>\n",
       "      <th>isOccupation13User</th>\n",
       "      <th>isOccupation6User</th>\n",
       "      <th>GenderUser</th>\n",
       "    </tr>\n",
       "  </thead>\n",
       "  <tbody>\n",
       "    <tr>\n",
       "      <th>0</th>\n",
       "      <td>1</td>\n",
       "      <td>1193</td>\n",
       "      <td>5</td>\n",
       "      <td>978300760</td>\n",
       "      <td>One Flew Over the Cuckoo's Nest (1975)</td>\n",
       "      <td>48067</td>\n",
       "      <td>8.7</td>\n",
       "      <td>13.797795</td>\n",
       "      <td>0</td>\n",
       "      <td>False</td>\n",
       "      <td>...</td>\n",
       "      <td>False</td>\n",
       "      <td>False</td>\n",
       "      <td>False</td>\n",
       "      <td>False</td>\n",
       "      <td>False</td>\n",
       "      <td>False</td>\n",
       "      <td>False</td>\n",
       "      <td>False</td>\n",
       "      <td>False</td>\n",
       "      <td>False</td>\n",
       "    </tr>\n",
       "    <tr>\n",
       "      <th>1</th>\n",
       "      <td>1</td>\n",
       "      <td>661</td>\n",
       "      <td>3</td>\n",
       "      <td>978302109</td>\n",
       "      <td>James and the Giant Peach (1996)</td>\n",
       "      <td>48067</td>\n",
       "      <td>6.7</td>\n",
       "      <td>11.096652</td>\n",
       "      <td>0</td>\n",
       "      <td>False</td>\n",
       "      <td>...</td>\n",
       "      <td>False</td>\n",
       "      <td>False</td>\n",
       "      <td>False</td>\n",
       "      <td>False</td>\n",
       "      <td>False</td>\n",
       "      <td>False</td>\n",
       "      <td>False</td>\n",
       "      <td>False</td>\n",
       "      <td>False</td>\n",
       "      <td>False</td>\n",
       "    </tr>\n",
       "    <tr>\n",
       "      <th>2</th>\n",
       "      <td>1</td>\n",
       "      <td>914</td>\n",
       "      <td>3</td>\n",
       "      <td>978301968</td>\n",
       "      <td>My Fair Lady (1964)</td>\n",
       "      <td>48067</td>\n",
       "      <td>7.8</td>\n",
       "      <td>11.452783</td>\n",
       "      <td>0</td>\n",
       "      <td>False</td>\n",
       "      <td>...</td>\n",
       "      <td>False</td>\n",
       "      <td>False</td>\n",
       "      <td>False</td>\n",
       "      <td>False</td>\n",
       "      <td>False</td>\n",
       "      <td>False</td>\n",
       "      <td>False</td>\n",
       "      <td>False</td>\n",
       "      <td>False</td>\n",
       "      <td>False</td>\n",
       "    </tr>\n",
       "    <tr>\n",
       "      <th>3</th>\n",
       "      <td>1</td>\n",
       "      <td>3408</td>\n",
       "      <td>4</td>\n",
       "      <td>978300275</td>\n",
       "      <td>Erin Brockovich (2000)</td>\n",
       "      <td>48067</td>\n",
       "      <td>7.4</td>\n",
       "      <td>12.173456</td>\n",
       "      <td>0</td>\n",
       "      <td>False</td>\n",
       "      <td>...</td>\n",
       "      <td>False</td>\n",
       "      <td>False</td>\n",
       "      <td>False</td>\n",
       "      <td>False</td>\n",
       "      <td>False</td>\n",
       "      <td>False</td>\n",
       "      <td>False</td>\n",
       "      <td>False</td>\n",
       "      <td>False</td>\n",
       "      <td>False</td>\n",
       "    </tr>\n",
       "    <tr>\n",
       "      <th>4</th>\n",
       "      <td>1</td>\n",
       "      <td>2355</td>\n",
       "      <td>5</td>\n",
       "      <td>978824291</td>\n",
       "      <td>Bug's Life, A (1998)</td>\n",
       "      <td>48067</td>\n",
       "      <td>7.2</td>\n",
       "      <td>12.564953</td>\n",
       "      <td>0</td>\n",
       "      <td>True</td>\n",
       "      <td>...</td>\n",
       "      <td>False</td>\n",
       "      <td>False</td>\n",
       "      <td>False</td>\n",
       "      <td>False</td>\n",
       "      <td>False</td>\n",
       "      <td>False</td>\n",
       "      <td>False</td>\n",
       "      <td>False</td>\n",
       "      <td>False</td>\n",
       "      <td>False</td>\n",
       "    </tr>\n",
       "  </tbody>\n",
       "</table>\n",
       "<p>5 rows × 57 columns</p>\n",
       "</div>"
      ],
      "text/plain": [
       "   UserID  MovieID  Rating  Timestamp                                   Title  \\\n",
       "0       1     1193       5  978300760  One Flew Over the Cuckoo's Nest (1975)   \n",
       "1       1      661       3  978302109        James and the Giant Peach (1996)   \n",
       "2       1      914       3  978301968                     My Fair Lady (1964)   \n",
       "3       1     3408       4  978300275                  Erin Brockovich (2000)   \n",
       "4       1     2355       5  978824291                    Bug's Life, A (1998)   \n",
       "\n",
       "  ZipCode  averageRatingMovie  logNumVotesMovie  topDirectorMovie  \\\n",
       "0   48067                 8.7         13.797795                 0   \n",
       "1   48067                 6.7         11.096652                 0   \n",
       "2   48067                 7.8         11.452783                 0   \n",
       "3   48067                 7.4         12.173456                 0   \n",
       "4   48067                 7.2         12.564953                 0   \n",
       "\n",
       "   isComedyMovie  ...  isOccupation4User  isOccupation11User  \\\n",
       "0          False  ...              False               False   \n",
       "1          False  ...              False               False   \n",
       "2          False  ...              False               False   \n",
       "3          False  ...              False               False   \n",
       "4           True  ...              False               False   \n",
       "\n",
       "   isOccupation8User  isOccupation19User  isOccupation2User  \\\n",
       "0              False               False              False   \n",
       "1              False               False              False   \n",
       "2              False               False              False   \n",
       "3              False               False              False   \n",
       "4              False               False              False   \n",
       "\n",
       "   isOccupation18User  isOccupation5User  isOccupation13User  \\\n",
       "0               False              False               False   \n",
       "1               False              False               False   \n",
       "2               False              False               False   \n",
       "3               False              False               False   \n",
       "4               False              False               False   \n",
       "\n",
       "   isOccupation6User  GenderUser  \n",
       "0              False       False  \n",
       "1              False       False  \n",
       "2              False       False  \n",
       "3              False       False  \n",
       "4              False       False  \n",
       "\n",
       "[5 rows x 57 columns]"
      ]
     },
     "execution_count": 52,
     "metadata": {},
     "output_type": "execute_result"
    }
   ],
   "source": [
    "augmented_movielens.head()"
   ]
  },
  {
   "cell_type": "markdown",
   "id": "34a20adc-175b-473b-beae-fe482be7aec5",
   "metadata": {},
   "source": [
    "## Save the preprocessed data"
   ]
  },
  {
   "cell_type": "code",
   "execution_count": 53,
   "id": "c2b8ad60-f2ba-4e9c-9df5-ecd53a91adc5",
   "metadata": {},
   "outputs": [],
   "source": [
    "augmented_movielens.to_csv(\"data/augmented_movie_lens.csv\", index=False)"
   ]
  },
  {
   "cell_type": "code",
   "execution_count": null,
   "id": "52cc18fe-cc06-45e4-a9e0-1b43593baafd",
   "metadata": {},
   "outputs": [],
   "source": []
  }
 ],
 "metadata": {
  "kernelspec": {
   "display_name": "Python 3 (ipykernel)",
   "language": "python",
   "name": "python3"
  },
  "language_info": {
   "codemirror_mode": {
    "name": "ipython",
    "version": 3
   },
   "file_extension": ".py",
   "mimetype": "text/x-python",
   "name": "python",
   "nbconvert_exporter": "python",
   "pygments_lexer": "ipython3",
   "version": "3.8.12"
  }
 },
 "nbformat": 4,
 "nbformat_minor": 5
}
